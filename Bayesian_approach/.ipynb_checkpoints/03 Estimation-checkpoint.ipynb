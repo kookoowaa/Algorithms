{
 "cells": [
  {
   "cell_type": "markdown",
   "metadata": {},
   "source": [
    "# 추정\n",
    "\n",
    "## 1. 주사위 문제"
   ]
  },
  {
   "cell_type": "markdown",
   "metadata": {},
   "source": [
    "> 베이지안 접근법\n",
    "> 1. 가설을 나타내자\n",
    "> 2. 데이터를 나타내자\n",
    "> 3. 우도함수를 작성하자"
   ]
  },
  {
   "cell_type": "markdown",
   "metadata": {},
   "source": [
    ">- 예제\n",
    ">- 4면체, 6면체, 8면체, 12면체, 20면체 주사위가 든 상자가 있음\n",
    ">- 상자에서 주사위 하나를 집어 던졌더니 6이 나옴\n",
    ">- 각 주사위를 선택했을 확률은 어떻게 될까?\n"
   ]
  },
  {
   "cell_type": "markdown",
   "metadata": {},
   "source": [
    "$1$. 가설 설정\n",
    "\n",
    "\n",
    "- 선택한 주사위는 4면체, 6면체, 8면체, 12면체, 20면체 중 하나이다"
   ]
  },
  {
   "cell_type": "code",
   "execution_count": 1,
   "metadata": {},
   "outputs": [],
   "source": [
    "from thinkbayes import Pmf\n",
    "from thinkbayes import Suite"
   ]
  },
  {
   "cell_type": "code",
   "execution_count": 7,
   "metadata": {},
   "outputs": [],
   "source": [
    "hypotheses = [4, 6, 8, 12, 20]"
   ]
  },
  {
   "cell_type": "markdown",
   "metadata": {},
   "source": [
    "$2$. 데이터를 나타내자\n",
    "\n",
    "\n",
    "- 데이터는 4면체부터 20면체까지의 주사위에서 나올수 있는 숫자들이고, range(1,21)로 모두 정의할 수 있음\n",
    "- 이 경우 4면체에서는 5부터 20까지의 데이터는 무시됨"
   ]
  },
  {
   "cell_type": "markdown",
   "metadata": {},
   "source": [
    "$3$. 우도함수를 작성하자\n",
    "\n",
    "- 주사위를 굴려 특정 값이 나올 확률은 \"1/주사위크기\"로 나타낼 수 있음\n",
    "- 위 가설에서는 \"1/가설명\"으로 나타낼 수 있음\n",
    "- 단, 주사위 크기보다 큰 값이 나올 확률은 0임"
   ]
  },
  {
   "cell_type": "code",
   "execution_count": 14,
   "metadata": {},
   "outputs": [],
   "source": [
    "def likelihood(self, data, hypo):\n",
    "    if data > hypo:\n",
    "        return 0\n",
    "    else:\n",
    "        return 1/hypo"
   ]
  },
  {
   "cell_type": "markdown",
   "metadata": {},
   "source": [
    "- 위 과정을 class로 구현하자면 아래와 같음"
   ]
  },
  {
   "cell_type": "code",
   "execution_count": 19,
   "metadata": {},
   "outputs": [],
   "source": [
    "class Dice(Suite):\n",
    "    \n",
    "    def Likelihood(self, data, hypo):\n",
    "        if data > hypo:\n",
    "            return 0\n",
    "        else:\n",
    "            return 1/hypo"
   ]
  },
  {
   "cell_type": "code",
   "execution_count": 20,
   "metadata": {},
   "outputs": [
    {
     "data": {
      "text/plain": [
       "{4: 0.2, 6: 0.2, 8: 0.2, 12: 0.2, 20: 0.2}"
      ]
     },
     "execution_count": 20,
     "metadata": {},
     "output_type": "execute_result"
    }
   ],
   "source": [
    "suite = Dice(hypotheses)\n",
    "suite.d"
   ]
  },
  {
   "cell_type": "code",
   "execution_count": 21,
   "metadata": {},
   "outputs": [
    {
     "data": {
      "text/plain": [
       "{4: 0.0,\n",
       " 6: 0.3921568627450981,\n",
       " 8: 0.29411764705882354,\n",
       " 12: 0.19607843137254904,\n",
       " 20: 0.11764705882352944}"
      ]
     },
     "execution_count": 21,
     "metadata": {},
     "output_type": "execute_result"
    }
   ],
   "source": [
    "suite.Update(6)\n",
    "suite.d"
   ]
  },
  {
   "cell_type": "markdown",
   "metadata": {},
   "source": [
    "- 4면체를 골랐을 확률은 0% (6이 나올 수 없으므로), 6면체를 골랐을 확률은 39%, 8면체를 골랐을 확률은 29%, 12면체를 골랐을 확률은 20%, 20면체를 골랐을 확률은 12%임"
   ]
  },
  {
   "cell_type": "markdown",
   "metadata": {},
   "source": [
    "- 만약 몇번 더 굴려서 11, 9, 4, 3이 나왔다면 아래와 같이 확률을 계산 가능"
   ]
  },
  {
   "cell_type": "code",
   "execution_count": 23,
   "metadata": {},
   "outputs": [
    {
     "data": {
      "text/plain": [
       "{4: 0.0, 6: 0.0, 8: 0.0, 12: 0.9278503562945368, 20: 0.07214964370546323}"
      ]
     },
     "execution_count": 23,
     "metadata": {},
     "output_type": "execute_result"
    }
   ],
   "source": [
    "for i in [11, 9, 4, 3]:\n",
    "    suite.Update(i)\n",
    "\n",
    "suite.d"
   ]
  },
  {
   "cell_type": "markdown",
   "metadata": {},
   "source": [
    "___\n",
    "## 2. 기관차 문제\n",
    "\n"
   ]
  },
  {
   "cell_type": "markdown",
   "metadata": {},
   "source": [
    "$\"Fifty\\ Challenging\\ Problems\\ in\\ Probability\\ with\\ Solutions\"$\n",
    "- 각 철도는 1부터 $N$까지의 순서로 번호를 붙임\n",
    "- 어느 날 60호 기관차를 발견\n",
    "- 이 철도에는 몇개의 기관차가 지나갈 지 추측"
   ]
  },
  {
   "cell_type": "markdown",
   "metadata": {},
   "source": [
    "베이지안 추론법에 따르면 아래 2단계로 문제를 해결\n",
    ">1. $N$에 대해 알고 있는 것이 무엇인가?  - __사전확률__\n",
    ">2. $N$에 어떤 값이 주어질 때 관측값의 우도는 어떻게 되는가? -__우도__"
   ]
  },
  {
   "cell_type": "markdown",
   "metadata": {},
   "source": [
    "- 현 상황에서 사전확률에 대한 근거는 부족\n",
    "- 따라서 __간단한 가정으로 시작하여 보완해가는 방법__을 차용"
   ]
  },
  {
   "cell_type": "markdown",
   "metadata": {},
   "source": [
    "- $N$은 1부터 1000까지 어떤 값이든지 될 수 있음"
   ]
  },
  {
   "cell_type": "code",
   "execution_count": 3,
   "metadata": {},
   "outputs": [],
   "source": [
    "hypos = range(1,1001)"
   ]
  },
  {
   "cell_type": "markdown",
   "metadata": {},
   "source": [
    "- 우도함수는 주사위 문제와 동일"
   ]
  },
  {
   "cell_type": "code",
   "execution_count": 4,
   "metadata": {},
   "outputs": [],
   "source": [
    "class Train(Suite):\n",
    "    def Likelihood(self, data, hypo):\n",
    "        if hypo < data:\n",
    "            return 0\n",
    "        else:\n",
    "            return 1/hypo"
   ]
  },
  {
   "cell_type": "code",
   "execution_count": 5,
   "metadata": {},
   "outputs": [
    {
     "data": {
      "text/plain": [
       "0.0028222671142652746"
      ]
     },
     "execution_count": 5,
     "metadata": {},
     "output_type": "execute_result"
    }
   ],
   "source": [
    "suite = Train(hypos)\n",
    "suite.Update(60)"
   ]
  },
  {
   "cell_type": "markdown",
   "metadata": {},
   "source": [
    "- 주사위 문제와 동일한 방식으로 갱신 시 결과 값은 60에서 가장 가능성이 높게 나옴 *(당연)*"
   ]
  },
  {
   "cell_type": "code",
   "execution_count": 26,
   "metadata": {},
   "outputs": [
    {
     "data": {
      "text/plain": [
       "<matplotlib.axes._subplots.AxesSubplot at 0x1f5ab9376a0>"
      ]
     },
     "execution_count": 26,
     "metadata": {},
     "output_type": "execute_result"
    },
    {
     "data": {
      "image/png": "[encoded data removed]",
      "text/plain": [
       "<matplotlib.figure.Figure at 0x1f5ab915f28>"
      ]
     },
     "metadata": {},
     "output_type": "display_data"
    }
   ],
   "source": [
    "pd.Series(suite.d, index = suite.d.keys()).plot()"
   ]
  },
  {
   "cell_type": "markdown",
   "metadata": {},
   "source": [
    "- 사후평균(MMSE)은 333이며, 이를 최소화 하는 방향으로 조절해 나아갈 필요가 있음"
   ]
  },
  {
   "cell_type": "code",
   "execution_count": 30,
   "metadata": {},
   "outputs": [
    {
     "data": {
      "text/plain": [
       "333.41989326371095"
      ]
     },
     "execution_count": 30,
     "metadata": {},
     "output_type": "execute_result"
    }
   ],
   "source": [
    "suite.Mean()"
   ]
  },
  {
   "cell_type": "markdown",
   "metadata": {},
   "source": [
    "___\n",
    "## 3. 사전 확률로 할 수 있는 것"
   ]
  },
  {
   "cell_type": "markdown",
   "metadata": {},
   "source": [
    "- 합리적인 경우라면 1000보다 많거나 적게 추측할 수도 있음\n",
    "- MMSE를 최소화하는 추측이라면 60이 답이 될 수도 있음\n",
    "- 하지만 이런 추론은 좋지 않으며, 2가지 방식으로 합리적인 추론을 할 수 있음\n",
    "> ### 1. 데이터를 더 확보할 것\n",
    "> ### 2. 배경 지식을 더 확보할 것"
   ]
  },
  {
   "cell_type": "markdown",
   "metadata": {},
   "source": [
    "예를 들어 60호 외 30호와 90호 기관차도 보았다면, 분포를 아래와 같이 갱신 가능"
   ]
  },
  {
   "cell_type": "code",
   "execution_count": 35,
   "metadata": {},
   "outputs": [
    {
     "data": {
      "text/plain": [
       "164.3055864227336"
      ]
     },
     "execution_count": 35,
     "metadata": {},
     "output_type": "execute_result"
    }
   ],
   "source": [
    "suite = Train(range(1,1001))\n",
    "for data in [60, 30, 90]:\n",
    "    suite.Update(data)\n",
    "\n",
    "suite.Mean()"
   ]
  },
  {
   "cell_type": "code",
   "execution_count": 51,
   "metadata": {},
   "outputs": [
    {
     "data": {
      "text/html": [
       "<div>\n",
       "<style scoped>\n",
       "    .dataframe tbody tr th:only-of-type {\n",
       "        vertical-align: middle;\n",
       "    }\n",
       "\n",
       "    .dataframe tbody tr th {\n",
       "        vertical-align: top;\n",
       "    }\n",
       "\n",
       "    .dataframe thead th {\n",
       "        text-align: right;\n",
       "    }\n",
       "</style>\n",
       "<table border=\"1\" class=\"dataframe\">\n",
       "  <thead>\n",
       "    <tr style=\"text-align: right;\">\n",
       "      <th></th>\n",
       "      <th>기관차 수</th>\n",
       "      <th>60호만 볼 경우</th>\n",
       "      <th>추가 관측</th>\n",
       "    </tr>\n",
       "  </thead>\n",
       "  <tbody>\n",
       "    <tr>\n",
       "      <th>0</th>\n",
       "      <td>500</td>\n",
       "      <td>207.0</td>\n",
       "      <td>152.0</td>\n",
       "    </tr>\n",
       "    <tr>\n",
       "      <th>1</th>\n",
       "      <td>1000</td>\n",
       "      <td>333.0</td>\n",
       "      <td>164.0</td>\n",
       "    </tr>\n",
       "    <tr>\n",
       "      <th>2</th>\n",
       "      <td>2000</td>\n",
       "      <td>552.0</td>\n",
       "      <td>171.0</td>\n",
       "    </tr>\n",
       "  </tbody>\n",
       "</table>\n",
       "</div>"
      ],
      "text/plain": [
       "   기관차 수  60호만 볼 경우  추가 관측\n",
       "0    500      207.0  152.0\n",
       "1   1000      333.0  164.0\n",
       "2   2000      552.0  171.0"
      ]
     },
     "execution_count": 51,
     "metadata": {},
     "output_type": "execute_result"
    }
   ],
   "source": [
    "MMSE = pd.DataFrame({'기관차 수': [500, 1000, 2000], '60호만 볼 경우': [0, 0, 0], '추가 관측': [0, 0, 0]}).iloc[:,[1,0,2]]\n",
    "\n",
    "n = 0\n",
    "for i in [range(1,501),range(1,1001), range(1,2001)]:\n",
    "    suite = Train(i)\n",
    "    suite.Update(60)\n",
    "    MMSE.iloc[n,1] = round(suite.Mean(),0)\n",
    "    for data in [30, 90]:\n",
    "        suite.Update(data)\n",
    "    MMSE.iloc[n,2] = round(suite.Mean(),0)\n",
    "    n += 1\n",
    "\n",
    "MMSE"
   ]
  },
  {
   "cell_type": "markdown",
   "metadata": {},
   "source": [
    "- 데이터가 더 확보된다면, 사후확률의 MSE는 차이가 더 작아짐"
   ]
  },
  {
   "cell_type": "markdown",
   "metadata": {},
   "source": [
    "___\n",
    "## 4. 사전확률의 대안\n",
    "- 데이터를 더 확보할 수 없다면, 배경지식을 바탕으로 사전확률을 개선하는 방식이 있음\n",
    "- 예를 들어, 1000대의 기관차를 운영하는 회사가 세상에 하나뿐이라고 가정하는 것은 비합리적일 수 있음\n",
    "- 관측 데이터에서 철도 회사 목록을 찾을 수도 있고, 전문가와 인터뷰 할 수도 있음\n",
    "- 철도 경제에 특화된 정보 수집 없이도 학습된 추측을 할 수 있으며, 본 케이스에서는 **\"로버트 액스텔의 멱법칙\"**을 따른다는 가정하에 추정을 수행"
   ]
  },
  {
   "cell_type": "markdown",
   "metadata": {},
   "source": [
    "- 멱법칙의 그래프와 함수는 아래와 같음\n",
    "\n",
    "![](https://upload.wikimedia.org/wikipedia/commons/thumb/8/8a/Long_tail.svg/1000px-Long_tail.svg.png)\n",
    "\n",
    "$$\n",
    "f(x) = kx^\\alpha,\n",
    "$$\n",
    ">where:  \n",
    ">$x =$ variable  \n",
    ">$\\alpha =$ law's exponent  \n",
    ">$k =$ constant"
   ]
  },
  {
   "cell_type": "code",
   "execution_count": null,
   "metadata": {},
   "outputs": [],
   "source": []
  }
 ],
 "metadata": {
  "kernelspec": {
   "display_name": "Python 3",
   "language": "python",
   "name": "python3"
  },
  "language_info": {
   "codemirror_mode": {
    "name": "ipython",
    "version": 3
   },
   "file_extension": ".py",
   "mimetype": "text/x-python",
   "name": "python",
   "nbconvert_exporter": "python",
   "pygments_lexer": "ipython3",
   "version": "3.6.4"
  }
 },
 "nbformat": 4,
 "nbformat_minor": 2
}
