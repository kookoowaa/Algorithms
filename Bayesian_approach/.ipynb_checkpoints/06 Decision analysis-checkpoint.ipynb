{
 "cells": [
  {
   "cell_type": "code",
   "execution_count": 1,
   "metadata": {},
   "outputs": [
    {
     "name": "stdout",
     "output_type": "stream",
     "text": [
      "Populating the interactive namespace from numpy and matplotlib\n"
     ]
    }
   ],
   "source": [
    "%pylab inline\n",
    "pylab.rcParams['figure.figsize'] = (16, 8)\n",
    "\n",
    "import thinkbayes\n",
    "from thinkbayes import Pmf\n",
    "from thinkbayes import Suite\n",
    "import pandas as pd\n",
    "import seaborn as sns"
   ]
  },
  {
   "cell_type": "markdown",
   "metadata": {},
   "source": [
    "# 의사 결정 분석\n",
    "___\n",
    "## 1. '$The Price is Right$*(그 가격이 적당해요)*' 문제"
   ]
  },
  {
   "cell_type": "markdown",
   "metadata": {},
   "source": [
    ">- A와 B가 진열대 위 물건의 가격을 맞추는 게임에 참가\n",
    ">- 진열대 가격을 넘기 않는 한도 내에서 가장 가까운 가격을 부르는 사람이 승리\n",
    ">- A는 \\$26,000을 예상하였고 실제 가격은 \\$25,347\n",
    ">- B는 \\$21,500을 예상하였고 실제 가격은 \\$21,578\n",
    ">- B는 -\\$78 차이로 승리했을 뿐 아니라 예상가와 금액차이가 \\$250 보다 작아 A의 진열대 물건까지 확보(게임룰)"
   ]
  },
  {
   "cell_type": "markdown",
   "metadata": {},
   "source": [
    "- 베이지안 사고 방식을 갖고 있는 사람들에게, 위 시나리오는 다음 3가지 질문을 던짐\n",
    "> 1. 결과를 보기 전에, 진열대 가격에 대한 사전분포를 얼마나 믿고 있었을까?\n",
    "> 2. 결과 확인 후 가격에 대한 믿음의 사후분포가 바뀌었을까?\n",
    "> 3. 사후분포에 따르면 참가자는 얼마를 부르는 것이 유리한가?"
   ]
  },
  {
   "cell_type": "markdown",
   "metadata": {},
   "source": [
    "___\n",
    "## 2. 사전 분포"
   ]
  },
  {
   "cell_type": "markdown",
   "metadata": {},
   "source": [
    "- '$The Price is Right$'의 [2011년](http://thinkbayes.com/showcases.2011.csv), [2012년](http://thinkbayes.com/showcases.2012.csv) 시즌 별 각 회차의 금액과 참가자들의 예상가는 링크 에서 확인 가능\n",
    "- KDE로 다듬어진 분포는 아래 그래프에서 확인 가능"
   ]
  },
  {
   "cell_type": "code",
   "execution_count": 2,
   "metadata": {},
   "outputs": [],
   "source": [
    "biddings = pd.merge(pd.read_csv('data/showcases.2011.csv')[2:4],pd.read_csv('data/showcases.2012.csv')[1:3], on = 'Unnamed: 0')\n",
    "biddings.index = biddings['Unnamed: 0']\n",
    "biddings.index.name = ''\n",
    "biddings = biddings.iloc[:,1:]\n",
    "biddings = biddings.astype(int)\n",
    "biddings = biddings.T"
   ]
  },
  {
   "cell_type": "code",
   "execution_count": 3,
   "metadata": {
    "scrolled": true
   },
   "outputs": [
    {
     "data": {
      "text/plain": [
       "Text(0,0.5,'PDF')"
      ]
     },
     "execution_count": 3,
     "metadata": {},
     "output_type": "execute_result"
    },
    {
     "data": {
      "image/png": "[encoded data removed]",
      "text/plain": [
       "<matplotlib.figure.Figure at 0x20caf6d8dd8>"
      ]
     },
     "metadata": {},
     "output_type": "display_data"
    }
   ],
   "source": [
    "sns.set_style('white')\n",
    "sns.distplot(biddings['Showcase 1'], label = 'Showcase 1', hist = False)\n",
    "sns.distplot(biddings['Showcase 2'], label = 'Showcase 2', hist = False)\n",
    "plt.legend()\n",
    "plt.title(\"PDF of 'The Price is Right'\\n\")\n",
    "plt.xlabel(\"Price($)\")\n",
    "plt.ylabel('PDF')\n",
    "#plt.set(xlabel= 'Price($)', ylabel = 'PDF')"
   ]
  },
  {
   "cell_type": "markdown",
   "metadata": {},
   "source": [
    "___\n",
    "## 3. 확률 밀도 함수 (PDF)"
   ]
  },
  {
   "cell_type": "markdown",
   "metadata": {},
   "source": [
    "- 그동안은 이산형 밀도 함수인 PMF를 다뤄왔고, 각 Pmf object별로 확률값을 반환함\n",
    "- **연속확률함수(PDF)**은 연속형 PMF로 보통 함수 형식으로 표시함\n",
    "- 다음은 평균이 0이고 표준편차가 1인 가우시간 분포의 PDF를 나타낸 것 $N(0, 1)$\n",
    "$$\n",
    "f(x) = \\frac{1}{\\sqrt{2\\pi}}exp(-x^2/2)\n",
    "$$"
   ]
  },
  {
   "cell_type": "markdown",
   "metadata": {},
   "source": [
    "- 위 함수는 주어진 $x$에 대한 확률 밀도를 계산\n",
    "- PDF는 값이 클수록 근사값에 가까워지지만, 0부터 무한대까지 값을 가질 수 있어 확률로 볼 수는 없음\n",
    "- 다만 이를 연속적 범위로 적분한다면 확률로 반환은 가능"
   ]
  },
  {
   "cell_type": "markdown",
   "metadata": {},
   "source": [
    "___\n",
    "## 4. PDF 나타내기"
   ]
  },
  {
   "cell_type": "markdown",
   "metadata": {},
   "source": [
    "- thinkbayes는 `Pdf`라는 클래스를 통해 **추상형** 인터페이스 구축\n",
    "- `Pdf` 인터페이스는 `Density`와 `MakePmf` 두가지 방법을 포함\n",
    "```python\n",
    "class Pdf(object):\n",
    "    \n",
    "    def Density(self, x):\n",
    "        raise UnimplmentedMethodException()\n",
    "    \n",
    "    def MakePmf(self, xs):\n",
    "        pmf = Pmf()\n",
    "        for  x  in xs:\n",
    "            pmf.Set(x, self.Density(x))\n",
    "        pmf.Normalize()\n",
    "        return pmf\n",
    "```"
   ]
  },
  {
   "cell_type": "markdown",
   "metadata": {},
   "source": [
    "- `Density`는 값 x를 받아서 이에 해당하는 확률 밀도를 반환\n",
    "- `MakePmf`는 PDF의 이산형 추정값을 반환"
   ]
  },
  {
   "cell_type": "markdown",
   "metadata": {},
   "source": [
    "- 가우시안 PDF 같은 경우는 간단한 수학 함수로 정의되어 구현하기도 쉬움 (실생활에서 빈번하게 나타나기도 함)\n",
    "- 하지만 실제 데이터의 분포를 다른 함수로 나타낼 수 있다는 보장은 없으며, **전체 PDF를 추정하기 위해 샘플을 사용**\n",
    "- $The Price is Right$ 예제에서는 1회차에 대해 313개의 데이터가 있으며, 순서대로 나열할 시 아래같이 나타남"
   ]
  },
  {
   "cell_type": "code",
   "execution_count": 5,
   "metadata": {},
   "outputs": [
    {
     "data": {
      "text/html": [
       "<div>\n",
       "<style scoped>\n",
       "    .dataframe tbody tr th:only-of-type {\n",
       "        vertical-align: middle;\n",
       "    }\n",
       "\n",
       "    .dataframe tbody tr th {\n",
       "        vertical-align: top;\n",
       "    }\n",
       "\n",
       "    .dataframe thead th {\n",
       "        text-align: right;\n",
       "    }\n",
       "</style>\n",
       "<table border=\"1\" class=\"dataframe\">\n",
       "  <thead>\n",
       "    <tr style=\"text-align: right;\">\n",
       "      <th></th>\n",
       "      <th>Showcase 1</th>\n",
       "      <th>Showcase 2</th>\n",
       "    </tr>\n",
       "  </thead>\n",
       "  <tbody>\n",
       "    <tr>\n",
       "      <th>Jan. 13</th>\n",
       "      <td>19563</td>\n",
       "      <td>33551</td>\n",
       "    </tr>\n",
       "    <tr>\n",
       "      <th>Dec. 23</th>\n",
       "      <td>19612</td>\n",
       "      <td>23084</td>\n",
       "    </tr>\n",
       "    <tr>\n",
       "      <th>Apr. 17</th>\n",
       "      <td>20408</td>\n",
       "      <td>34453</td>\n",
       "    </tr>\n",
       "    <tr>\n",
       "      <th>Mar. 20_x</th>\n",
       "      <td>20418</td>\n",
       "      <td>25541</td>\n",
       "    </tr>\n",
       "    <tr>\n",
       "      <th>Jan. 16_x</th>\n",
       "      <td>20418</td>\n",
       "      <td>29524</td>\n",
       "    </tr>\n",
       "  </tbody>\n",
       "</table>\n",
       "</div>"
      ],
      "text/plain": [
       "           Showcase 1  Showcase 2\n",
       "Jan. 13         19563       33551\n",
       "Dec. 23         19612       23084\n",
       "Apr. 17         20408       34453\n",
       "Mar. 20_x       20418       25541\n",
       "Jan. 16_x       20418       29524"
      ]
     },
     "execution_count": 5,
     "metadata": {},
     "output_type": "execute_result"
    }
   ],
   "source": [
    "biddings.sort_values('Showcase 1').head()"
   ]
  },
  {
   "cell_type": "markdown",
   "metadata": {},
   "source": [
    "- 이 경우 `[19563, 19612, 20408, 20418, 20418]`의 관측값이 있으며, 19564가 관측되지 않았다고 해서 나올 일이 없다고 판단내릴 근거가 없음\n",
    "- 배경 지식을 기반으로 범위 내 값일 가능성이 있는 모든 값을 예상해야 하며, 이는 곧 **PDF 곡선을 부드럽게 유추하는 과정**으로 볼 수 있음\n",
    "- **KDE(커널 밀도 추정)**d은 샘플로 데이터에 적합한 추정PDF를 찾아내는 것임"
   ]
  },
  {
   "cell_type": "code",
   "execution_count": null,
   "metadata": {},
   "outputs": [],
   "source": []
  }
 ],
 "metadata": {
  "kernelspec": {
   "display_name": "Python 3",
   "language": "python",
   "name": "python3"
  },
  "language_info": {
   "codemirror_mode": {
    "name": "ipython",
    "version": 3
   },
   "file_extension": ".py",
   "mimetype": "text/x-python",
   "name": "python",
   "nbconvert_exporter": "python",
   "pygments_lexer": "ipython3",
   "version": "3.6.4"
  }
 },
 "nbformat": 4,
 "nbformat_minor": 2
}
