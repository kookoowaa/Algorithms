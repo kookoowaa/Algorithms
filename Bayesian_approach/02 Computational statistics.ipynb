{
 "cells": [
  {
   "cell_type": "markdown",
   "metadata": {},
   "source": [
    "# 계산 통계\n",
    "## 1. 분포\n",
    "\n",
    ">- 통계에서 분포는 어떤 값과 그 값이 나타날 확률의 집합\n",
    ">- 확률 질량 함수(probability mass function)으로 분포를 수학적으로 표현 가능\n",
    ">- thinkbayes 모듈은 다음 [링크](http://thinkbayes.com/thinkbayes.py)에서 다운 가능"
   ]
  },
  {
   "cell_type": "code",
   "execution_count": 1,
   "metadata": {},
   "outputs": [],
   "source": [
    "from thinkbayes import Pmf"
   ]
  },
  {
   "cell_type": "code",
   "execution_count": 2,
   "metadata": {},
   "outputs": [],
   "source": [
    "pmf = Pmf()\n",
    "for x in range(1,7):\n",
    "    pmf.Set(x, 1/6)"
   ]
  },
  {
   "cell_type": "markdown",
   "metadata": {},
   "source": [
    "- Pmf는 아무 값도 부여되지 않은 텅 빈 Pmf 객체를 생성\n",
    "- Set 메서드는 각 값에 확률 값을 설정 (위의 예제에서는 주사위 확률 부여)"
   ]
  },
  {
   "cell_type": "code",
   "execution_count": null,
   "metadata": {
    "scrolled": true
   },
   "outputs": [],
   "source": [
    "pmf = Pmf()\n",
    "for word in word_list:\n",
    "    pmf.Incr(word, 1)"
   ]
  },
  {
   "cell_type": "markdown",
   "metadata": {},
   "source": [
    "- Incr 메서드는 word_list의 word마다 '확률'을 1씩 높힘 (정규화 되지 않은 확률)"
   ]
  },
  {
   "cell_type": "code",
   "execution_count": null,
   "metadata": {},
   "outputs": [],
   "source": [
    "pmf.Normalize()"
   ]
  },
  {
   "cell_type": "markdown",
   "metadata": {},
   "source": [
    "- 위 방식으로 모든 빈도 수집 시 Normalize 메서드로 확률 계산"
   ]
  },
  {
   "cell_type": "code",
   "execution_count": null,
   "metadata": {},
   "outputs": [],
   "source": [
    "print(pmf.Prob('the'))"
   ]
  },
  {
   "cell_type": "markdown",
   "metadata": {},
   "source": [
    "- Prob 메서드로 특정 값의 빈도 출력 가능\n",
    "___"
   ]
  },
  {
   "cell_type": "markdown",
   "metadata": {},
   "source": [
    "## 2. 쿠키문제\n",
    "\n",
    "- 앞서 보았던 쿠키 문제를 Pmf로 해석"
   ]
  },
  {
   "cell_type": "code",
   "execution_count": 33,
   "metadata": {},
   "outputs": [
    {
     "data": {
      "text/plain": [
       "{'Bowl 1': 0.5, 'Bowl 2': 0.5}"
      ]
     },
     "execution_count": 33,
     "metadata": {},
     "output_type": "execute_result"
    }
   ],
   "source": [
    "pmf = Pmf()\n",
    "\n",
    "pmf.Set('Bowl 1', 0.5)\n",
    "pmf.Set('Bowl 2', 0.5)\n",
    "pmf.GetDict()"
   ]
  },
  {
   "cell_type": "markdown",
   "metadata": {},
   "source": [
    "- Set으로 사전 분포를 설정"
   ]
  },
  {
   "cell_type": "code",
   "execution_count": 34,
   "metadata": {},
   "outputs": [
    {
     "data": {
      "text/plain": [
       "0.5"
      ]
     },
     "execution_count": 34,
     "metadata": {},
     "output_type": "execute_result"
    }
   ],
   "source": [
    "pmf.Prob('Bowl 1')"
   ]
  },
  {
   "cell_type": "code",
   "execution_count": 35,
   "metadata": {},
   "outputs": [
    {
     "data": {
      "text/plain": [
       "{'Bowl 1': 0.375, 'Bowl 2': 0.25}"
      ]
     },
     "execution_count": 35,
     "metadata": {},
     "output_type": "execute_result"
    }
   ],
   "source": [
    "pmf.Mult('Bowl 1', 0.75)\n",
    "pmf.Mult('Bowl 2', 0.5)\n",
    "pmf.GetDict()"
   ]
  },
  {
   "cell_type": "markdown",
   "metadata": {},
   "source": [
    "- 그릇 1에서 바닐라 쿠키를 선택할 우도(확률)은 3/4, 그릇 2에서 바닐라쿠키를 선택할 우도(확률)은 1/2임\n",
    "- 위 정보를 바탕으로 Mult 메서드로 분포 갱신\n",
    "- 단, 위와 같이 갱신 시 위 가설은 상호 배반적이며, 전체 포괄적임 -> __정규화 필요__"
   ]
  },
  {
   "cell_type": "code",
   "execution_count": 6,
   "metadata": {},
   "outputs": [
    {
     "data": {
      "text/plain": [
       "0.6000000000000001"
      ]
     },
     "execution_count": 6,
     "metadata": {},
     "output_type": "execute_result"
    }
   ],
   "source": [
    "pmf.Normalize()\n",
    "pmf.Prob('Bowl 1')"
   ]
  },
  {
   "cell_type": "markdown",
   "metadata": {},
   "source": [
    "- 각 가설에 대한 사후 확률을 포함하는 사후 분포로 나타남\n",
    "- 그릇 1의 사후확률은 0.6임"
   ]
  },
  {
   "cell_type": "code",
   "execution_count": 7,
   "metadata": {},
   "outputs": [
    {
     "data": {
      "text/plain": [
       "{'Bowl 1': 0.6000000000000001, 'Bowl 2': 0.4}"
      ]
     },
     "execution_count": 7,
     "metadata": {},
     "output_type": "execute_result"
    }
   ],
   "source": [
    "pmf.GetDict()"
   ]
  },
  {
   "cell_type": "markdown",
   "metadata": {},
   "source": [
    "___\n",
    "## 3. 베이지안 프레임워크\n",
    "- 앞 장에서 다룬 코드를 클래스로 정의"
   ]
  },
  {
   "cell_type": "code",
   "execution_count": 8,
   "metadata": {},
   "outputs": [],
   "source": [
    "class Cookie(Pmf):\n",
    "    \n",
    "    def __init__(self, hypos):\n",
    "        Pmf.__init__(self)\n",
    "        for hypo in hypos:\n",
    "            self.Set(hypo, 1)\n",
    "        self.Normalize()\n",
    "        \n",
    "    \n",
    "    def Update(self, data):\n",
    "        for hypo in self.Values():\n",
    "            like = self.Likelihood(data, hypo)\n",
    "            self.Mult(hypo, like)\n",
    "        self. Normalize()\n",
    "    \n",
    "    \n",
    "    mixes = {\n",
    "    'Bowl 1': dict(vanilla = 0.75, chocolate = 0.25),\n",
    "    'Bowl 2': dict(vanilla = 0.5, chocolate = 0.5)\n",
    "    }\n",
    "    \n",
    "    \n",
    "    def Likelihood(self, data, hypo):\n",
    "        mix = self.mixes[hypo]\n",
    "        like = mix[data]\n",
    "        return like"
   ]
  },
  {
   "cell_type": "markdown",
   "metadata": {},
   "source": [
    "-\t\\__init__ 메서드는 각 가설별로 동일한 사전확률을 부여\n",
    "-\tUpdate 메서드는 우도(likelihood)를 사전확률에 곱하고, 정규화 하여 사후 확률을 도출\n",
    "-\tLikelihood 메서드는 Update에서 사용할 우도를(mixes) 전달\n",
    "- mixes객체는 \"각 가설 별로 계산된 우도\"를 담고 있음"
   ]
  },
  {
   "cell_type": "code",
   "execution_count": 9,
   "metadata": {},
   "outputs": [
    {
     "data": {
      "text/plain": [
       "{'Bowl 1': 0.5, 'Bowl 2': 0.5}"
      ]
     },
     "execution_count": 9,
     "metadata": {},
     "output_type": "execute_result"
    }
   ],
   "source": [
    "hypos = ['Bowl 1', 'Bowl 2']\n",
    "pmf = Cookie(hypos)\n",
    "pmf.GetDict()"
   ]
  },
  {
   "cell_type": "markdown",
   "metadata": {},
   "source": [
    "- 'Bowl 1'과 'Bowl 2' 2종의 가설 설정\n",
    "- Cookie 클래스로 'Bowl 1'과 'Bowl 2'의 사전확률 설정 (동일한 사전확률)"
   ]
  },
  {
   "cell_type": "code",
   "execution_count": 10,
   "metadata": {},
   "outputs": [
    {
     "data": {
      "text/plain": [
       "{'Bowl 1': 0.6000000000000001, 'Bowl 2': 0.4}"
      ]
     },
     "execution_count": 10,
     "metadata": {},
     "output_type": "execute_result"
    }
   ],
   "source": [
    "pmf.Update('vanilla')\n",
    "pmf.GetDict()"
   ]
  },
  {
   "cell_type": "markdown",
   "metadata": {},
   "source": [
    "- Update 메서드로 바닐라에 대한 사후 확률 계산\n",
    "- Update 안의 Mult 메서드로 분포 갱신 $(0.5 * 0.75, 0.5*0.5)$\n",
    "- 위의 분포를 Normalize 메서드로 정규화 $(\\frac{0.5 * 0.75}{\\sum}, \\frac{0.5*0.5}{\\sum})$"
   ]
  },
  {
   "cell_type": "code",
   "execution_count": 11,
   "metadata": {},
   "outputs": [
    {
     "data": {
      "text/plain": [
       "{'Bowl 1': 0.627906976744186, 'Bowl 2': 0.37209302325581395}"
      ]
     },
     "execution_count": 11,
     "metadata": {},
     "output_type": "execute_result"
    }
   ],
   "source": [
    "dataset = ['vanilla', 'chocolate', 'vanilla']\n",
    "for data in dataset:\n",
    "    pmf.Update(data)\n",
    "pmf.GetDict()"
   ]
  },
  {
   "cell_type": "markdown",
   "metadata": {},
   "source": [
    "- for문을 사용하여 한개 이상의 쿠키를 집는 경우를 일반화 하는 것이 가능\n",
    "___"
   ]
  },
  {
   "cell_type": "markdown",
   "metadata": {},
   "source": [
    "## 4. 몬티 홀 문제\n",
    "- 마찬가지로 앞 장에서 다루었던 문제를 클래스로 구현 *(몬티홀 참가자는 A를 선택한 상황)*"
   ]
  },
  {
   "cell_type": "code",
   "execution_count": 12,
   "metadata": {},
   "outputs": [],
   "source": [
    "class Monty(Pmf):\n",
    "    \n",
    "    def __init__(self, hypos):\n",
    "        Pmf.__init__(self)\n",
    "        for hypo in hypos:\n",
    "            self.Set(hypo, 1)\n",
    "        self.Normalize()\n",
    "\n",
    "        \n",
    "    def Update(self, data):\n",
    "        for hypo in self.Values():\n",
    "            like = self.Likelihood(data, hypo)\n",
    "            self.Mult(hypo, like)\n",
    "        self. Normalize()\n",
    "    \n",
    "    \n",
    "    def Likelihood(self, data, hypo):\n",
    "        if hypo == data:\n",
    "            return 0\n",
    "        elif hypo == 'A':\n",
    "            return 0.5\n",
    "        else:\n",
    "            return 1"
   ]
  },
  {
   "cell_type": "markdown",
   "metadata": {},
   "source": [
    "- 앞서 쿠키 사례와 \\__init__, Update 메서드는 동일\n",
    "- Likelihood 메서드는 data(몬티 홀이 연 문)일 경우, 차가 선택한 'A' 뒤에 있을 경우, 'C'에 있을 경우의 우도를 담고 있음"
   ]
  },
  {
   "cell_type": "code",
   "execution_count": 13,
   "metadata": {},
   "outputs": [
    {
     "data": {
      "text/plain": [
       "{'A': 0.3333333333333333, 'B': 0.3333333333333333, 'C': 0.3333333333333333}"
      ]
     },
     "execution_count": 13,
     "metadata": {},
     "output_type": "execute_result"
    }
   ],
   "source": [
    "hypos = list('ABC')\n",
    "pmf = Monty(hypos)\n",
    "pmf.GetDict()"
   ]
  },
  {
   "cell_type": "markdown",
   "metadata": {},
   "source": [
    "- 사전 확률은 쿠키 클래스 때와 마찬가지로 동일"
   ]
  },
  {
   "cell_type": "code",
   "execution_count": 14,
   "metadata": {},
   "outputs": [
    {
     "data": {
      "text/plain": [
       "{'A': 0.3333333333333333, 'B': 0.0, 'C': 0.6666666666666666}"
      ]
     },
     "execution_count": 14,
     "metadata": {},
     "output_type": "execute_result"
    }
   ],
   "source": [
    "data = 'B'\n",
    "pmf.Update(data)\n",
    "pmf.GetDict()"
   ]
  },
  {
   "cell_type": "markdown",
   "metadata": {},
   "source": [
    "- 우도를 반영한 몬티홀 결과 값은, 'A'를 선택하고 'B'문이 열렸을 때 'C'문에 차가 있을 확률이 2배 높다고 볼 수 있음\n",
    "___"
   ]
  },
  {
   "cell_type": "markdown",
   "metadata": {},
   "source": [
    "## 5. 프레임워크 캡슐화\n",
    "\n",
    "- 베이지안 프레임워크에서 동일한 요소들이 있으며 캡슐화가 가능\n",
    "- 동일한 요소들은 \\__init__, Update, (print) 기능으로 정의\n",
    "- 우도를 담은 Likelihood 메서드만 프레임워크 별로 정의"
   ]
  },
  {
   "cell_type": "code",
   "execution_count": null,
   "metadata": {},
   "outputs": [],
   "source": [
    "class Suite(Pmf):\n",
    "    \"\"\"Represents a suite of hypotheses and their probabilities.\"\"\"\n",
    "\n",
    "    def Update(self, data):\n",
    "        \"\"\"Updates each hypothesis based on the data.\n",
    "        data: any representation of the data\n",
    "        returns: the normalizing constant\n",
    "        \"\"\"\n",
    "        for hypo in self.Values():\n",
    "            like = self.Likelihood(data, hypo)\n",
    "            self.Mult(hypo, like)\n",
    "        return self.Normalize()\n",
    "\n",
    "\n",
    "    def Print(self):\n",
    "        \"\"\"Prints the hypotheses and their probabilities.\"\"\"\n",
    "        for hypo, prob in sorted(self.Items()):\n",
    "            print(hypo, prob)\n",
    "\n",
    "            \n",
    "#### 외 기타 기능들은 think bayes에 포함\n",
    "#### __init__은 Suite 클래스에서 호출한 Pmf 클래스에서 작동"
   ]
  },
  {
   "cell_type": "code",
   "execution_count": 15,
   "metadata": {},
   "outputs": [],
   "source": [
    "from thinkbayes import Suite\n",
    "\n",
    "class Monty(Suite):\n",
    "    def Likelihood(self, data, hypo):\n",
    "        if hypo ==data:\n",
    "            return 0\n",
    "        elif hypo == 'A':\n",
    "            return 0.5\n",
    "        else:\n",
    "            return 1"
   ]
  },
  {
   "cell_type": "markdown",
   "metadata": {},
   "source": [
    "- Monty 클래스는 thinkbayes의 Suite 클래스를 상속받음\n",
    "- Likelihood만 프레임워크에 맞춰 추가하여 Monty 프레임워크 구축 *('A' 선택)*"
   ]
  },
  {
   "cell_type": "code",
   "execution_count": 16,
   "metadata": {},
   "outputs": [
    {
     "name": "stdout",
     "output_type": "stream",
     "text": [
      "A 0.3333333333333333\n",
      "B 0.0\n",
      "C 0.6666666666666666\n"
     ]
    }
   ],
   "source": [
    "suite = Monty('ABC')\n",
    "suite.Update('B')\n",
    "suite.Print()"
   ]
  },
  {
   "cell_type": "markdown",
   "metadata": {},
   "source": [
    "___\n",
    "## 6. M&M 문제\n",
    "- 색구성이 다른 M&M이 두봉지 있음 M&M(1994), M&M(1996)\n",
    "- 각 봉지에서 M&M을 꺼냈을 때 한알은 노란색, 한알은 녹색임\n",
    "- 노란색이 M&M(1994)일 확률은?"
   ]
  },
  {
   "cell_type": "code",
   "execution_count": 17,
   "metadata": {},
   "outputs": [
    {
     "data": {
      "text/plain": [
       "{'blue': 24, 'brown': 13, 'green': 20, 'orange': 16, 'red': 13, 'yellow': 14}"
      ]
     },
     "execution_count": 17,
     "metadata": {},
     "output_type": "execute_result"
    }
   ],
   "source": [
    "mix94 = dict(brown=30, yellow=20, red=20, green=10, orange=10, tan=10)\n",
    "mix96 = dict(blue=24, green=20, orange=16, yellow=14, red=13, brown=13)\n",
    "mix96"
   ]
  },
  {
   "cell_type": "markdown",
   "metadata": {},
   "source": [
    "- 각 봉지 별 색구성 정의"
   ]
  },
  {
   "cell_type": "code",
   "execution_count": 23,
   "metadata": {},
   "outputs": [
    {
     "data": {
      "text/plain": [
       "{'A': {'bag1': {'brown': 30,\n",
       "   'green': 10,\n",
       "   'orange': 10,\n",
       "   'red': 20,\n",
       "   'tan': 10,\n",
       "   'yellow': 20},\n",
       "  'bag2': {'blue': 24,\n",
       "   'brown': 13,\n",
       "   'green': 20,\n",
       "   'orange': 16,\n",
       "   'red': 13,\n",
       "   'yellow': 14}},\n",
       " 'B': {'bag1': {'blue': 24,\n",
       "   'brown': 13,\n",
       "   'green': 20,\n",
       "   'orange': 16,\n",
       "   'red': 13,\n",
       "   'yellow': 14},\n",
       "  'bag2': {'brown': 30,\n",
       "   'green': 10,\n",
       "   'orange': 10,\n",
       "   'red': 20,\n",
       "   'tan': 10,\n",
       "   'yellow': 20}}}"
      ]
     },
     "execution_count": 23,
     "metadata": {},
     "output_type": "execute_result"
    }
   ],
   "source": [
    "hypo1 = dict(bag1 = mix94, bag2 = mix96)\n",
    "hypo2 = dict(bag1 = mix96, bag2 = mix94)\n",
    "\n",
    "hypotheses = dict(A=hypo1, B = hypo2)\n",
    "hypotheses"
   ]
  },
  {
   "cell_type": "markdown",
   "metadata": {},
   "source": [
    "- 가설을 코드화: 가설A에서 1번 봉지는 M&M(1994), 2번 봉지는 M&M(1996); 가설B에서는 그 반대\n",
    "- 가설 별로 확률 분포 딕셔너리에 저장"
   ]
  },
  {
   "cell_type": "code",
   "execution_count": 19,
   "metadata": {},
   "outputs": [],
   "source": [
    "class M_and_M(Suite):\n",
    "    \n",
    "    def Likelihood(self, data, hypo):\n",
    "        bag, color = data\n",
    "        mix = hypotheses[hypo][bag]\n",
    "        like = mix[color]\n",
    "        return like"
   ]
  },
  {
   "cell_type": "markdown",
   "metadata": {},
   "source": [
    "- 내용 추가 필요"
   ]
  },
  {
   "cell_type": "code",
   "execution_count": 60,
   "metadata": {},
   "outputs": [
    {
     "name": "stdout",
     "output_type": "stream",
     "text": [
      "A 0.7407407407407407\n",
      "B 0.2592592592592592\n"
     ]
    }
   ],
   "source": [
    "suite = M_and_M('AB')\n",
    "\n",
    "suite.Update(('bag1', 'yellow'))\n",
    "suite.Update(('bag2', 'green'))\n",
    "suite.Print()"
   ]
  },
  {
   "cell_type": "markdown",
   "metadata": {},
   "source": [
    "- 해석 추가 필요"
   ]
  },
  {
   "cell_type": "code",
   "execution_count": 87,
   "metadata": {},
   "outputs": [
    {
     "data": {
      "text/plain": [
       "{'A': 0.5, 'B': 0.5}"
      ]
     },
     "execution_count": 87,
     "metadata": {},
     "output_type": "execute_result"
    }
   ],
   "source": [
    "suite = M_and_M('AB')\n",
    "suite.d"
   ]
  },
  {
   "cell_type": "code",
   "execution_count": null,
   "metadata": {},
   "outputs": [],
   "source": [
    "suite.Update(('bag1', 'yellow'))\n",
    "\n",
    "    def Update(self, data):\n",
    "        \"\"\"Updates each hypothesis based on the data.\n",
    "        data: any representation of the data\n",
    "        returns: the normalizing constant\n",
    "        \"\"\"\n",
    "        for hypo in self.Values():\n",
    "            like = self.Likelihood(data, hypo)\n",
    "            self.Mult(hypo, like)\n",
    "        return self.Normalize()\n",
    "    \n",
    "    def Likelihood(self, data, hypo):\n",
    "        bag, color = data\n",
    "        mix = hypotheses[hypo][bag]\n",
    "        like = mix[color]\n",
    "        return like"
   ]
  },
  {
   "cell_type": "code",
   "execution_count": 88,
   "metadata": {},
   "outputs": [
    {
     "data": {
      "text/plain": [
       "17.0"
      ]
     },
     "execution_count": 88,
     "metadata": {},
     "output_type": "execute_result"
    }
   ],
   "source": [
    "hypos = suite.Values()\n",
    "\n",
    "bag = 'bag1'\n",
    "color = 'yellow'\n",
    "\n",
    "\n",
    "mix = hypotheses[hypos[0]][bag]\n",
    "like = mix[color]\n",
    "suite.Mult(hypos[0], like)\n",
    "\n",
    "mix = hypotheses[hypos[1]][bag]\n",
    "like = mix[color]\n",
    "suite.Mult(hypos[1], like)\n",
    "\n",
    "suite.Normalize()\n"
   ]
  },
  {
   "cell_type": "code",
   "execution_count": 89,
   "metadata": {},
   "outputs": [
    {
     "data": {
      "text/plain": [
       "15.882352941176471"
      ]
     },
     "execution_count": 89,
     "metadata": {},
     "output_type": "execute_result"
    }
   ],
   "source": [
    "hypos = suite.Values()\n",
    "\n",
    "bag = 'bag2'\n",
    "color = 'green'\n",
    "\n",
    "\n",
    "mix = hypotheses[hypos[0]][bag]\n",
    "like = mix[color]\n",
    "suite.Mult(hypos[0], like)\n",
    "\n",
    "mix = hypotheses[hypos[1]][bag]\n",
    "like = mix[color]\n",
    "suite.Mult(hypos[1], like)\n",
    "suite.Normalize()"
   ]
  },
  {
   "cell_type": "code",
   "execution_count": 90,
   "metadata": {},
   "outputs": [
    {
     "data": {
      "text/plain": [
       "{'A': 0.7407407407407407, 'B': 0.2592592592592592}"
      ]
     },
     "execution_count": 90,
     "metadata": {},
     "output_type": "execute_result"
    }
   ],
   "source": [
    "suite.d"
   ]
  },
  {
   "cell_type": "code",
   "execution_count": 85,
   "metadata": {},
   "outputs": [
    {
     "data": {
      "text/plain": [
       "270.0"
      ]
     },
     "execution_count": 85,
     "metadata": {},
     "output_type": "execute_result"
    }
   ],
   "source": [
    "suite.Normalize()"
   ]
  },
  {
   "cell_type": "code",
   "execution_count": 86,
   "metadata": {},
   "outputs": [
    {
     "data": {
      "text/plain": [
       "{'A': 0.7407407407407408, 'B': 0.25925925925925924}"
      ]
     },
     "execution_count": 86,
     "metadata": {},
     "output_type": "execute_result"
    }
   ],
   "source": [
    "suite.d"
   ]
  },
  {
   "cell_type": "code",
   "execution_count": null,
   "metadata": {},
   "outputs": [],
   "source": []
  },
  {
   "cell_type": "code",
   "execution_count": null,
   "metadata": {},
   "outputs": [],
   "source": []
  },
  {
   "cell_type": "code",
   "execution_count": null,
   "metadata": {},
   "outputs": [],
   "source": []
  },
  {
   "cell_type": "code",
   "execution_count": null,
   "metadata": {},
   "outputs": [],
   "source": []
  },
  {
   "cell_type": "code",
   "execution_count": null,
   "metadata": {},
   "outputs": [],
   "source": []
  },
  {
   "cell_type": "code",
   "execution_count": null,
   "metadata": {},
   "outputs": [],
   "source": []
  },
  {
   "cell_type": "code",
   "execution_count": null,
   "metadata": {},
   "outputs": [],
   "source": []
  },
  {
   "cell_type": "code",
   "execution_count": 32,
   "metadata": {},
   "outputs": [
    {
     "data": {
      "text/plain": [
       "20"
      ]
     },
     "execution_count": 32,
     "metadata": {},
     "output_type": "execute_result"
    }
   ],
   "source": [
    "hypotheses['A']['bag1']['yellow']"
   ]
  },
  {
   "cell_type": "code",
   "execution_count": 28,
   "metadata": {
    "scrolled": true
   },
   "outputs": [
    {
     "data": {
      "text/plain": [
       "(10.0, 10.0)"
      ]
     },
     "execution_count": 28,
     "metadata": {},
     "output_type": "execute_result"
    }
   ],
   "source": [
    "(hypotheses['A']['bag1']['yellow']*0.5, hypotheses['A']['bag2']['green']*.5)"
   ]
  },
  {
   "cell_type": "code",
   "execution_count": 29,
   "metadata": {},
   "outputs": [
    {
     "data": {
      "text/plain": [
       "(7.0, 5.0)"
      ]
     },
     "execution_count": 29,
     "metadata": {},
     "output_type": "execute_result"
    }
   ],
   "source": [
    "(hypotheses['B']['bag1']['yellow']*0.5, hypotheses['B']['bag2']['green']*.5)"
   ]
  },
  {
   "cell_type": "code",
   "execution_count": null,
   "metadata": {},
   "outputs": [],
   "source": [
    "for hypo in self.Values():\n",
    "    like = self.Likelihood(data, hypo)\n",
    "    self.Mult(hypo, like)\n"
   ]
  },
  {
   "cell_type": "code",
   "execution_count": 30,
   "metadata": {},
   "outputs": [],
   "source": [
    "hyy = hypotheses"
   ]
  },
  {
   "cell_type": "code",
   "execution_count": 39,
   "metadata": {},
   "outputs": [
    {
     "data": {
      "text/plain": [
       "['A', 'B']"
      ]
     },
     "execution_count": 39,
     "metadata": {},
     "output_type": "execute_result"
    }
   ],
   "source": [
    "M_and_M(\"AB\").Values()"
   ]
  },
  {
   "cell_type": "code",
   "execution_count": 43,
   "metadata": {
    "scrolled": true
   },
   "outputs": [
    {
     "data": {
      "text/plain": [
       "0.5"
      ]
     },
     "execution_count": 43,
     "metadata": {},
     "output_type": "execute_result"
    }
   ],
   "source": [
    "\n",
    "M_and_M(\"AB\").d.get('A',0)"
   ]
  },
  {
   "cell_type": "code",
   "execution_count": 22,
   "metadata": {},
   "outputs": [
    {
     "data": {
      "text/plain": [
       "{'A': {'bag1': {'brown': 30,\n",
       "   'green': 10,\n",
       "   'orange': 10,\n",
       "   'red': 20,\n",
       "   'tan': 10,\n",
       "   'yellow': 20},\n",
       "  'bag2': {'blue': 24,\n",
       "   'brown': 13,\n",
       "   'green': 20,\n",
       "   'orange': 16,\n",
       "   'red': 13,\n",
       "   'yellow': 14}},\n",
       " 'B': {'bag1': {'blue': 24,\n",
       "   'brown': 13,\n",
       "   'green': 20,\n",
       "   'orange': 16,\n",
       "   'red': 13,\n",
       "   'yellow': 14},\n",
       "  'bag2': {'brown': 30,\n",
       "   'green': 10,\n",
       "   'orange': 10,\n",
       "   'red': 20,\n",
       "   'tan': 10,\n",
       "   'yellow': 20}}}"
      ]
     },
     "execution_count": 22,
     "metadata": {},
     "output_type": "execute_result"
    }
   ],
   "source": [
    "hypotheses"
   ]
  },
  {
   "cell_type": "code",
   "execution_count": 58,
   "metadata": {},
   "outputs": [],
   "source": [
    "suite = M_and_M('AB')"
   ]
  },
  {
   "cell_type": "code",
   "execution_count": 59,
   "metadata": {},
   "outputs": [
    {
     "data": {
      "text/plain": [
       "{'A': 10.0, 'B': 10.0}"
      ]
     },
     "execution_count": 59,
     "metadata": {},
     "output_type": "execute_result"
    }
   ],
   "source": [
    "suite.Mult('A', 20)\n",
    "suite.Mult('B', 20)\n",
    "suite.d"
   ]
  },
  {
   "cell_type": "code",
   "execution_count": 53,
   "metadata": {},
   "outputs": [
    {
     "data": {
      "text/plain": [
       "10.5"
      ]
     },
     "execution_count": 53,
     "metadata": {},
     "output_type": "execute_result"
    }
   ],
   "source": [
    "suite.Normalize()"
   ]
  },
  {
   "cell_type": "code",
   "execution_count": 54,
   "metadata": {},
   "outputs": [
    {
     "data": {
      "text/plain": [
       "{'A': 0.9523809523809523, 'B': 0.047619047619047616}"
      ]
     },
     "execution_count": 54,
     "metadata": {},
     "output_type": "execute_result"
    }
   ],
   "source": [
    "suite.d"
   ]
  },
  {
   "cell_type": "code",
   "execution_count": 55,
   "metadata": {},
   "outputs": [],
   "source": [
    "suite.Mult('A', 20)"
   ]
  },
  {
   "cell_type": "code",
   "execution_count": 56,
   "metadata": {},
   "outputs": [
    {
     "data": {
      "text/plain": [
       "19.095238095238095"
      ]
     },
     "execution_count": 56,
     "metadata": {},
     "output_type": "execute_result"
    }
   ],
   "source": [
    "suite.Normalize()"
   ]
  },
  {
   "cell_type": "code",
   "execution_count": 57,
   "metadata": {},
   "outputs": [
    {
     "data": {
      "text/plain": [
       "{'A': 0.997506234413965, 'B': 0.0024937655860349127}"
      ]
     },
     "execution_count": 57,
     "metadata": {},
     "output_type": "execute_result"
    }
   ],
   "source": [
    "suite.d"
   ]
  },
  {
   "cell_type": "code",
   "execution_count": null,
   "metadata": {},
   "outputs": [],
   "source": []
  }
 ],
 "metadata": {
  "kernelspec": {
   "display_name": "Python 3",
   "language": "python",
   "name": "python3"
  },
  "language_info": {
   "codemirror_mode": {
    "name": "ipython",
    "version": 3
   },
   "file_extension": ".py",
   "mimetype": "text/x-python",
   "name": "python",
   "nbconvert_exporter": "python",
   "pygments_lexer": "ipython3",
   "version": "3.6.4"
  }
 },
 "nbformat": 4,
 "nbformat_minor": 2
}
