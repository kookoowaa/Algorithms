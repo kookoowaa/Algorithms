{
 "cells": [
  {
   "cell_type": "code",
   "execution_count": 1,
   "metadata": {},
   "outputs": [
    {
     "name": "stdout",
     "output_type": "stream",
     "text": [
      "Populating the interactive namespace from numpy and matplotlib\n"
     ]
    }
   ],
   "source": [
    "%pylab inline\n",
    "pylab.rcParams['figure.figsize'] = (16, 8)\n",
    "\n",
    "import thinkbayes\n",
    "from thinkbayes import Pmf\n",
    "from thinkbayes import Suite\n",
    "import pandas as pd"
   ]
  },
  {
   "cell_type": "markdown",
   "metadata": {},
   "source": [
    "# 공산과 가산\n",
    "___\n",
    "## 1. 공산"
   ]
  },
  {
   "cell_type": "markdown",
   "metadata": {},
   "source": [
    "- **$공산^{odds}$**은 확률과 동일한 정보를 다르게 표기하는 법으로 아래와 같이 설명할 수 있음\n",
    "```python\n",
    "def Odds(p):\n",
    "    return p / (1-p)\n",
    "```\n",
    "- 이길 확률이 75%라면 이길 가능성이 질 가능성의 3배이므로 \"odds are 3:1\" 이라고 표기 가능\n",
    "- 반대의 경우 통상적으로 \"odds against are 3:1\" 이라고 표기\n",
    "- 역으로 공산을 확률로 변경할 때에는 다음과 같이 설명 가능\n",
    "```python\n",
    "def  Probability(o):\n",
    "    return o / (1+o)\n",
    "```"
   ]
  },
  {
   "cell_type": "markdown",
   "metadata": {},
   "source": [
    "___\n",
    "## 2. 베이즈 이론의 공산 형태\n",
    "\n",
    "- 베이즈 이론은 아래와 같은 확률 형태로 표기 가능\n",
    "$$\n",
    "p(H\\ |\\ D) = \\frac{p(H)\\ p(D\\ |\\ H)}{p(D)}\n",
    "$$\n",
    "<br>\n",
    "- $A$와 $B$ 라는 상호 배제적인 가설이 있을 때 사후 확률 비는 아래와 같이 표기 가능\n",
    "$$\n",
    "\\frac{p(A\\ |\\ D)}{p(B\\ |\\ D)} = \\frac{p(A)\\ p(D\\ |\\ A)}{p(B)\\ p(D\\ |\\ B)}\n",
    "$$\n",
    "<br>\n",
    "- 위 사후 공산식($o(A\\ |\\ D)$)을 정리하면 아래와 같이 표기 가능\n",
    "$$\n",
    "o(A) = \\frac{p(A)}{p(1-A)}\\\\\n",
    "o(A\\ |\\ D) = o(A)\\frac{p(D\\ |\\ A)}{p(D\\ |\\ (1-A))}\n",
    "$$\n",
    "- 즉 사후공산은 **사전공산($o(A)$)**과 **우도비($\\frac{p(D\\ |\\ A)}{p(D\\ |\\ (1-A)}$)**의 곱으로 표기 가능\n",
    "- 위 계산을 쿠키 문제에 대입하면 다음과 같음\n",
    "> 쿠키 그릇 1에는30개의 바닐라 쿠키와 10개의 초콜렛 쿠키가 있고, 그릇 2에는 각각 20개씩 있음  \n",
    "> ```{'Bowl 1': {'vanila': 0.75, 'chocolate': 0.25}, 'Bowl 2': {'vanila': 0.5, 'chocolate':0.5}} ```  \n",
    "> 우도비 $\\frac{p(D\\ |\\ A)}{p(D\\ |\\ (1-A)} = \\frac{3/4}{1/2} = 1.5$  \n",
    ">  \n",
    "> 랜덤으로 쿠키 1개를 골랐을 때  쿠키를 그릇 1에서 골랐을 확률은?  \n",
    "> 사전공산 $o(A) = 0.5 / (1-0.5) = 1$\n",
    ">  \n",
    "> 사후공산 $o(A\\ |\\ D)$는 $3:2$, 사후 확률 $p(A\\ |\\ D)$는 $3/5$로 정리 가능"
   ]
  },
  {
   "cell_type": "markdown",
   "metadata": {},
   "source": [
    "___\n",
    "## 3. 올리버의 혈액형"
   ]
  },
  {
   "cell_type": "code",
   "execution_count": null,
   "metadata": {},
   "outputs": [],
   "source": []
  }
 ],
 "metadata": {
  "kernelspec": {
   "display_name": "Python 3",
   "language": "python",
   "name": "python3"
  },
  "language_info": {
   "codemirror_mode": {
    "name": "ipython",
    "version": 3
   },
   "file_extension": ".py",
   "mimetype": "text/x-python",
   "name": "python",
   "nbconvert_exporter": "python",
   "pygments_lexer": "ipython3",
   "version": "3.6.4"
  }
 },
 "nbformat": 4,
 "nbformat_minor": 2
}
