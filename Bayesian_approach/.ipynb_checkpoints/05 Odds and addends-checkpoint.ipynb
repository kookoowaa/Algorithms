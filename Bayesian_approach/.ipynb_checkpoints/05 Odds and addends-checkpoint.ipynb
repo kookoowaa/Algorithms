{
 "cells": [
  {
   "cell_type": "code",
   "execution_count": 60,
   "metadata": {},
   "outputs": [
    {
     "name": "stdout",
     "output_type": "stream",
     "text": [
      "Populating the interactive namespace from numpy and matplotlib\n"
     ]
    }
   ],
   "source": [
    "%pylab inline\n",
    "pylab.rcParams['figure.figsize'] = (16, 8)\n",
    "\n",
    "import thinkbayes\n",
    "from thinkbayes import Pmf\n",
    "from thinkbayes import Suite\n",
    "import pandas as pd"
   ]
  },
  {
   "cell_type": "markdown",
   "metadata": {},
   "source": [
    "# 공산과 가산\n",
    "___\n",
    "## 1. 공산"
   ]
  },
  {
   "cell_type": "markdown",
   "metadata": {},
   "source": [
    "- **$공산^{odds}$**은 확률과 동일한 정보를 다르게 표기하는 법으로 아래와 같이 설명할 수 있음\n",
    "```python\n",
    "def Odds(p):\n",
    "    return p / (1-p)\n",
    "```\n",
    "- 이길 확률이 75%라면 이길 가능성이 질 가능성의 3배이므로 \"odds are 3:1\" 이라고 표기 가능\n",
    "- 반대의 경우 통상적으로 \"odds against are 3:1\" 이라고 표기\n",
    "- 역으로 공산을 확률로 변경할 때에는 다음과 같이 설명 가능\n",
    "```python\n",
    "def  Probability(o):\n",
    "    return o / (1+o)\n",
    "```"
   ]
  },
  {
   "cell_type": "markdown",
   "metadata": {},
   "source": [
    "___\n",
    "## 2. 베이즈 이론의 공산 형태\n",
    "\n",
    "- 베이즈 이론은 아래와 같은 확률 형태로 표기 가능\n",
    "$$\n",
    "p(H\\ |\\ D) = \\frac{p(H)\\ p(D\\ |\\ H)}{p(D)}\n",
    "$$\n",
    "<br>\n",
    "- $A$와 $B$ 라는 상호 배제적인 가설이 있을 때 사후 확률 비는 아래와 같이 표기 가능\n",
    "$$\n",
    "\\frac{p(A\\ |\\ D)}{p(B\\ |\\ D)} = \\frac{p(A)\\ p(D\\ |\\ A)}{p(B)\\ p(D\\ |\\ B)}\n",
    "$$\n",
    "<br>\n",
    "- 위 사후 공산식($o(A\\ |\\ D)$)을 정리하면 아래와 같이 표기 가능\n",
    "$$\n",
    "o(A) = \\frac{p(A)}{p(1-A)}\\\\\n",
    "o(A\\ |\\ D) = o(A)\\frac{p(D\\ |\\ A)}{p(D\\ |\\ (1-A))}\n",
    "$$\n",
    "- 즉 사후공산은 **사전공산($o(A)$)**과 **우도비($\\frac{p(D\\ |\\ A)}{p(D\\ |\\ (1-A)}$)**의 곱으로 표기 가능\n",
    "- 위 계산을 쿠키 문제에 대입하면 다음과 같음\n",
    "> 쿠키 그릇 1에는30개의 바닐라 쿠키와 10개의 초콜렛 쿠키가 있고, 그릇 2에는 각각 20개씩 있음  \n",
    "> ```{'Bowl 1': {'vanila': 0.75, 'chocolate': 0.25}, 'Bowl 2': {'vanila': 0.5, 'chocolate':0.5}} ```  \n",
    "> 우도비 $\\frac{p(D\\ |\\ A)}{p(D\\ |\\ (1-A)} = \\frac{3/4}{1/2} = 1.5$  \n",
    ">  \n",
    "> 랜덤으로 쿠키 1개를 골랐을 때  쿠키를 그릇 1에서 골랐을 확률은?  \n",
    "> 사전공산 $o(A) = 0.5 / (1-0.5) = 1$\n",
    ">  \n",
    "> 사후공산 $o(A\\ |\\ D)$는 $3:2$, 사후 확률 $p(A\\ |\\ D)$는 $3/5$로 정리 가능"
   ]
  },
  {
   "cell_type": "markdown",
   "metadata": {},
   "source": [
    "___\n",
    "## 3. 올리버의 혈액형"
   ]
  },
  {
   "cell_type": "markdown",
   "metadata": {},
   "source": [
    ">-  범죄현장에서 O형과 AB형 혈흔이 발견됨\n",
    ">- O형은 인구의 60% 빈도로, AB형은 인구의 1%빈도로 나타남\n",
    ">- 용의자 올리버의 혈액형은 O형\n",
    ">- 위 데이터가 올리버가 법인 중 한명이라는 질문의 증거가 될 수 있을까?"
   ]
  },
  {
   "cell_type": "markdown",
   "metadata": {},
   "source": [
    "- 쿠키 문제에서 사전 공산은 1:1, 확률은 50%, 사후 공산은 3:2, 확률은 60%임\n",
    "- 따라서, 바닐라 쿠키는 그릇 1에서 나온 가설에 대한 증거라고 할 수 있음\n",
    "- $\\frac{o(A\\ |\\ D)}{o(A)} = \\frac{p(D\\ |\\ A)}{p(D\\ |\\ B}$ 를 **베이즈 요인(Bayes facter)** 라고 함\n",
    "- 사후공산과 사전 공산의 비, 혹은 우도비로 베이즈요인이 1보다 크면, 데이터는 A가정에 더 가깝다고 해석할 수 있음"
   ]
  },
  {
   "cell_type": "markdown",
   "metadata": {},
   "source": [
    ">- 올리버가 범인일 시 데이터의 확률은 임의의 'AB'형 혈액을 가진 사람의 확률과 동일 $= 0.01$\n",
    ">- 올리버가 범인이 아닐 시, 데이터의 확률은 2개의 샘플에서 각각 한명이 'O'형이고 한명이 'AB일 확률과 동일 $2 * (0.6)*(0.01) = 0.012$\n",
    ">- 후자의 우도가 더 높으므로, 데이터는 범인다는 가설에 반증이 될 수 있음"
   ]
  },
  {
   "cell_type": "markdown",
   "metadata": {},
   "source": [
    "___\n",
    "## 4. 가산\n",
    "- 베이지안 통계의 기본 연산은 Update에서 사전분포와 데이터를 가지고 사후 분포를 생성하는 것임\n",
    "- 다만, 실제 문제에서는 정규화 덧셈, 최대값 등 다양한 수치 연산을 포함\n",
    "- 본 페이지에서는 덧셈과 최대값에 대하여 설명"
   ]
  },
  {
   "cell_type": "markdown",
   "metadata": {},
   "source": [
    ">- *던전 앤 드래곤*에서는 게임 시작 전 6면체 주사위 3개를 굴린 후 이 값으로 캐릭터의 속성값을 결정\n",
    ">- 이때 3개의 주사위의 합의 분포는?"
   ]
  },
  {
   "cell_type": "markdown",
   "metadata": {},
   "source": [
    "- 이를 계산할 수 있는 방법은 두가지가 있음  \n",
    "    **1. 시뮬레이션**  \n",
    "    하나의 Pmf가 주어졌을 때 이를 사용해서 랜덤 샘플을 만들어서 분포를 구함  \n",
    "    **2. 나열**  \n",
    "    모든 경우의 수를 나열하고 이 합의 분포를 구함"
   ]
  },
  {
   "cell_type": "code",
   "execution_count": 2,
   "metadata": {},
   "outputs": [],
   "source": [
    "class Die(thinkbayes.Pmf):\n",
    "    def __init__(self, sides):\n",
    "        thinkbayes.Pmf.__init__(self)\n",
    "        for x in range(1, sides+1):\n",
    "            self.Set(x, 1)\n",
    "        self. Normalize()"
   ]
  },
  {
   "cell_type": "code",
   "execution_count": 3,
   "metadata": {},
   "outputs": [],
   "source": [
    "d6 = Die(6)"
   ]
  },
  {
   "cell_type": "code",
   "execution_count": 6,
   "metadata": {},
   "outputs": [
    {
     "data": {
      "text/plain": [
       "[<__main__.Die at 0x1f19ca7eef0>,\n",
       " <__main__.Die at 0x1f19ca7eef0>,\n",
       " <__main__.Die at 0x1f19ca7eef0>]"
      ]
     },
     "execution_count": 6,
     "metadata": {},
     "output_type": "execute_result"
    }
   ],
   "source": [
    "dice = [d6]*3\n",
    "dice"
   ]
  },
  {
   "cell_type": "markdown",
   "metadata": {},
   "source": [
    "#### 1. 시뮬레이션\n",
    "- ```SampleSum```은 분포 리스트와 샘플 크기 n을 사용\n",
    "```python\n",
    "def SampleSum(dists, n):\n",
    "    pmf = MakePmfFromList(RandomSum(dists) for i in range(n))\n",
    "    return pmf\n",
    "```\n",
    "- ```SampleSum```은 ```RandomSum```을 사용\n",
    "```python\n",
    "def RandomSum(dists):\n",
    "    total = sum(dist.Random() for dist in dists)\n",
    "    return total\n",
    "```\n",
    "- n개의 시뮬레이션 값을 생성한 후 이 분포를 Pmf 객체로 반환\n",
    "- 시뮬레이션의 문제점은 결과가 근사값을 보여줄 뿐 정확하지는 않음"
   ]
  },
  {
   "cell_type": "code",
   "execution_count": 8,
   "metadata": {
    "scrolled": true
   },
   "outputs": [
    {
     "data": {
      "text/plain": [
       "{3: 0.004999999999999999,\n",
       " 4: 0.020999999999999998,\n",
       " 5: 0.026999999999999993,\n",
       " 6: 0.04499999999999999,\n",
       " 7: 0.05899999999999999,\n",
       " 8: 0.09799999999999998,\n",
       " 9: 0.11199999999999997,\n",
       " 10: 0.13199999999999998,\n",
       " 11: 0.12599999999999997,\n",
       " 12: 0.11399999999999998,\n",
       " 13: 0.09799999999999998,\n",
       " 14: 0.071,\n",
       " 15: 0.04799999999999999,\n",
       " 16: 0.024999999999999994,\n",
       " 17: 0.015999999999999997,\n",
       " 18: 0.002999999999999999}"
      ]
     },
     "execution_count": 8,
     "metadata": {},
     "output_type": "execute_result"
    }
   ],
   "source": [
    "three = thinkbayes.SampleSum(dice, 1000)\n",
    "three.d"
   ]
  },
  {
   "cell_type": "markdown",
   "metadata": {},
   "source": [
    "#### 2. 나열\n",
    "- 모든 값의 쌍을 나열하고 각 쌍의 확률을 계산하는 방법은 `Pmf.__add__`에 구현\n",
    "```python\n",
    "# class Pmf\n",
    "    def __add__(self, other):\n",
    "    for v1, p1 in self.Items():\n",
    "        for v2, p2 in other.Items():\n",
    "            pmf.Incr(v1+v2, p1*p2)\n",
    "    return pmf\n",
    "```\n",
    "- 함수를 사용하는 방식은 단순히 pmf 객체를 더하여 사용"
   ]
  },
  {
   "cell_type": "code",
   "execution_count": 9,
   "metadata": {},
   "outputs": [
    {
     "data": {
      "text/plain": [
       "{3: 0.004629629629629629,\n",
       " 4: 0.013888888888888888,\n",
       " 5: 0.027777777777777776,\n",
       " 6: 0.046296296296296294,\n",
       " 7: 0.06944444444444445,\n",
       " 8: 0.09722222222222222,\n",
       " 9: 0.11574074074074073,\n",
       " 10: 0.125,\n",
       " 11: 0.125,\n",
       " 12: 0.11574074074074074,\n",
       " 13: 0.09722222222222224,\n",
       " 14: 0.06944444444444445,\n",
       " 15: 0.046296296296296294,\n",
       " 16: 0.027777777777777776,\n",
       " 17: 0.013888888888888888,\n",
       " 18: 0.004629629629629629}"
      ]
     },
     "execution_count": 9,
     "metadata": {},
     "output_type": "execute_result"
    }
   ],
   "source": [
    "three_exact = d6 + d6 + d6\n",
    "three_exact.d"
   ]
  },
  {
   "cell_type": "code",
   "execution_count": 61,
   "metadata": {
    "scrolled": false
   },
   "outputs": [
    {
     "data": {
      "text/plain": [
       "Text(0.5,1,'approximation and real pmf for three 6-side dice roll\\n')"
      ]
     },
     "execution_count": 61,
     "metadata": {},
     "output_type": "execute_result"
    },
    {
     "data": {
      "image/png": "[encoded data removed]",
      "text/plain": [
       "<matplotlib.figure.Figure at 0x1f1a3a602e8>"
      ]
     },
     "metadata": {},
     "output_type": "display_data"
    }
   ],
   "source": [
    "pd.Series(three_exact.d, index = three_exact.d.keys()).plot(ls = '-.', label = 'Real pmf')\n",
    "pd.Series(three.d, index = three.d.keys()).sort_index().plot(ls = ':', label = 'Simulated pmf')\n",
    "plt.legend()\n",
    "plt.title('approximation and real pmf for three 6-side dice roll\\n')"
   ]
  },
  {
   "cell_type": "markdown",
   "metadata": {},
   "source": [
    "- 단, `Pmf.__add__`는 각 Pmf로부터 랜덤섬택이 독립적이라는 가정하에서 만들어짐"
   ]
  },
  {
   "cell_type": "markdown",
   "metadata": {},
   "source": [
    "___\n",
    "## 5. 최대값"
   ]
  },
  {
   "cell_type": "markdown",
   "metadata": {},
   "source": [
    "- 케릭터 생성에 있어서는 최고 속성이 중요함\n",
    "- 따라서 속성의 최대값 분포만 따로 확인\n",
    "- 이를 계산하는 방법은 세가지가 있음  \n",
    "    **1. 시뮬레이션**  \n",
    "    Pmf를 사용한 랜덤 샘플링을 통해 최대값 분포 누적  \n",
    "    **2. 나열**  \n",
    "    모든 경우의 수를 나열하여 최대값을 분포 계산  \n",
    "    **3. 멱법(Exponentiation)**  \n",
    "    Pmf를 Cdf로 바꿀 때 최대값에서 Cdf를 구하는 알고리즘 사용"
   ]
  },
  {
   "cell_type": "markdown",
   "metadata": {},
   "source": [
    "#### 1. 시뮬레이션\n",
    "- 최대값을 시뮬레이션하는 코드는 합을 시뮬레이션하는 코드와 거의 동일\n",
    "```python\n",
    "def RandomMax(dists):\n",
    "    total = max(dist.Random() for dist in dists)\n",
    "    return total\n",
    "def SampleMax(dists, n):\n",
    "    pmf = MakePmfFromList(RandomMax(dists) for i in range(n))\n",
    "    return pmf\n",
    "```"
   ]
  },
  {
   "cell_type": "markdown",
   "metadata": {},
   "source": [
    "#### 2. 나열\n",
    "- 나열 역시 마찬가지로 for문 안의 첫번째 변수값만 조정해 주면 됨\n",
    "```python\n",
    "def PmfMax(pmf1, pmf2):\n",
    "  res = thinkbayes.Pmf()\n",
    "  for v1, p1 in pmf1.Items():\n",
    "      for v2, p2 in pmf2.Items():\n",
    "          res.Incr(max(v1, v2), p1*p2)\n",
    "  return res\n",
    "```\n",
    "- 다만, 위 함수는 실행 시간이 Pmf가 m개의 값을 가질 때 실행시간이 $m^2$에 비례함\n",
    "- 만약 $k$개중 최대값을 찾으려한다면 $km^2$만큼의 시간 소요"
   ]
  },
  {
   "cell_type": "markdown",
   "metadata": {},
   "source": [
    "#### 3. 멱법(exponentiation)\n",
    "- Pmf를 Cdf로 변경하면 동일한 계산을 훨씬 빠르게 가능  \n",
    "    $CDF(x) = p(X \\le x)$"
   ]
  },
  {
   "cell_type": "code",
   "execution_count": null,
   "metadata": {},
   "outputs": [],
   "source": []
  }
 ],
 "metadata": {
  "kernelspec": {
   "display_name": "Python 3",
   "language": "python",
   "name": "python3"
  },
  "language_info": {
   "codemirror_mode": {
    "name": "ipython",
    "version": 3
   },
   "file_extension": ".py",
   "mimetype": "text/x-python",
   "name": "python",
   "nbconvert_exporter": "python",
   "pygments_lexer": "ipython3",
   "version": "3.6.4"
  }
 },
 "nbformat": 4,
 "nbformat_minor": 2
}
