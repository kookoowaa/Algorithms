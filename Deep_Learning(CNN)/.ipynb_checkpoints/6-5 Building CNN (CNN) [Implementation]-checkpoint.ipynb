{
 "cells": [
  {
   "cell_type": "markdown",
   "metadata": {},
   "source": [
    "# *합성곱 신경망*\n",
    " ## 5. CNN 구현하기"
   ]
  },
  {
   "cell_type": "markdown",
   "metadata": {},
   "source": [
    "- 구현 할 CNN은 \"Conv - ReLU - Pooling - Affine - ReLU - Affine - Softmax\" 순으로 작성\n",
    "![](image/fig 7-23.png)"
   ]
  },
  {
   "cell_type": "markdown",
   "metadata": {},
   "source": [
    "- 구현에 앞서, 필요한 함수 호출"
   ]
  },
  {
   "cell_type": "code",
   "execution_count": 10,
   "metadata": {},
   "outputs": [],
   "source": [
    "from data.layers import *"
   ]
  },
  {
   "cell_type": "markdown",
   "metadata": {},
   "source": [
    "> **- 이하 초기화 코드 (하이퍼파라미터 설정, 매개변수 초기화, 계층 설정)**"
   ]
  },
  {
   "cell_type": "code",
   "execution_count": 12,
   "metadata": {},
   "outputs": [],
   "source": [
    "class SimpleConvNet:\n",
    "    def __init__(self, input_dim = (1, 28, 28),\n",
    "                conv_param = {'filter_num': 30, 'filter_size': 5, 'pad': 0, 'stride': 1},\n",
    "                hidden_size = 100, output_size = 10, weight_init_std = 0.01):\n",
    "        filter_num = conv_param['filter_num']\n",
    "        filter_size = conv_params['filter_size']\n",
    "        filter_pad = conv_params['pad']\n",
    "        filter_stride = conv_params['stride']\n",
    "        input_size = input_dim[1]\n",
    "        conv_output_size = (input_size - filter_size + 2 * filter_pad) / filter_stride + 1\n",
    "        pool_output_size = int(filter_num * (conv_output_size/2) * (conv_out_size/2))\n",
    "\n",
    "#### 딕셔너리에 하이퍼파라미터 값 저장\n",
    "######################################################################################################################################\n",
    "\n",
    "\n",
    "        self.params = {}\n",
    "        self.params['W1'] = weight_init_std * np.random.randn(filter_num, input_dim[0], filter_size, filter_size)\n",
    "        self.params['b1'] = np.zeros(filter_num)\n",
    "        self.params['W2'] = weight_init_std * np.random.randn(pool_output_size, hidden_size)\n",
    "        self.params['b1'] = np.zeros(hidden_size)\n",
    "        self.params['W3'] = weight_init_std * np.random.randn(hidden_size, output_size)\n",
    "        self.params['b3'] = np.zeros(output_size)\n",
    "    \n",
    "#### 가중치 매개변수 초기화\n",
    "#### 필요한 매개변수는 1번 conv, 2번 affine, 3번 affine의 가중치와 편향\n",
    "######################################################################################################################################\n",
    "\n",
    "\n",
    "        self.layer = OrderedDict()\n",
    "        self.layers['Conv1'] = Convolution(self.params['W1'],\n",
    "                                          self.params['b1'],\n",
    "                                          self.params['stride'],\n",
    "                                          self.params['pad'])\n",
    "        self.layers['Relu1'] = Relu()\n",
    "        self.layers['Pool1'] = Pooling(pool_h = 2, pool_w = 2, stride = 2)\n",
    "        \n",
    "        self.layers['Affine1'] = Affine(self.params['W2'],\n",
    "                                       self.params['b2'])\n",
    "        self.layers['Relu2'] = Relu()\n",
    "        \n",
    "        self.layers['Affine2'] = Affine(self.params['W3'],\n",
    "                                       self.params['b3'])\n",
    "        self.last_layer = SoftmaxWithLoss()\n",
    "\n",
    "#### OrderedDict에 계층들을 차례대로 추가\n",
    "######################################################################################################################################"
   ]
  },
  {
   "cell_type": "markdown",
   "metadata": {},
   "source": [
    "> **- 이하 추론용 predict 메서드와 손실함수 값을 구하는 loss 메서드**"
   ]
  },
  {
   "cell_type": "code",
   "execution_count": 13,
   "metadata": {},
   "outputs": [],
   "source": [
    "def predict(self, x):\n",
    "    for layer in self.layers.value():\n",
    "        x = layer.forward(x)\n",
    "    return x\n",
    "\n",
    "\n",
    "def loss(self, x, t):\n",
    "    y = self.predict(x)\n",
    "    return self.last_layer.forward(y, t)"
   ]
  },
  {
   "cell_type": "markdown",
   "metadata": {},
   "source": [
    "- 인수 x는 입력데이터, t는 정답 레이블\n",
    "- predict 메서드는 계층의 맨 앞에서부터 차례대로 forward 메서드를 호출\n",
    "- loss 메서드는 predict 결과를 인수로 마지막 층 forward 메서드를 호출"
   ]
  },
  {
   "cell_type": "markdown",
   "metadata": {},
   "source": [
    "> **- 이하 기울기 산출 구현**"
   ]
  },
  {
   "cell_type": "code",
   "execution_count": 14,
   "metadata": {},
   "outputs": [],
   "source": [
    "def gradient(self, x, t):\n",
    "    #### 순전파\n",
    "    self.loss(x, t)\n",
    "    \n",
    "    #### 역전파\n",
    "    dout = 1\n",
    "    dout = self.last_layer.backward(dout)\n",
    "    \n",
    "    layers = list(self.layers.values())\n",
    "    layerss.reverse()\n",
    "    for layer in layers:\n",
    "        dout = layer.backward(dout)\n",
    "        \n",
    "    \n",
    "    #### 결과 저장\n",
    "    grads = {}\n",
    "    grads['W1'] = self.layers['Conv1'].dW\n",
    "    grads['b1'] = self.layers['Conv1'].db\n",
    "    grads['W2'] = self.layers['Affine1'].dW\n",
    "    grads['b2'] = self.layers['Affine1'].db\n",
    "    grads['W3'] = self.layers['Affine2'].dW\n",
    "    grads['b3'] = self.layers['Affine2'].db\n",
    "    \n",
    "    return grads"
   ]
  },
  {
   "cell_type": "markdown",
   "metadata": {},
   "source": [
    "- 매개변수의 기울기는 오차역전파법으로 (순전파와 역전파를 반복하며) 구함\n",
    "- grads에 각 가중치 매개변수를 저장"
   ]
  }
 ],
 "metadata": {
  "kernelspec": {
   "display_name": "Python 3",
   "language": "python",
   "name": "python3"
  },
  "language_info": {
   "codemirror_mode": {
    "name": "ipython",
    "version": 3
   },
   "file_extension": ".py",
   "mimetype": "text/x-python",
   "name": "python",
   "nbconvert_exporter": "python",
   "pygments_lexer": "ipython3",
   "version": "3.6.4"
  }
 },
 "nbformat": 4,
 "nbformat_minor": 2
}
