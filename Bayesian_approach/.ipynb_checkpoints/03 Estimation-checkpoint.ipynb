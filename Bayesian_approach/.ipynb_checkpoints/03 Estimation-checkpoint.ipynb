{
 "cells": [
  {
   "cell_type": "markdown",
   "metadata": {},
   "source": [
    "# 추정\n",
    "\n",
    "## 1. 주사위 문제"
   ]
  },
  {
   "cell_type": "markdown",
   "metadata": {},
   "source": [
    "> 베이지안 접근법\n",
    "> 1. 가설을 나타내자\n",
    "> 2. 데이터를 나타내자\n",
    "> 3. 우도함수를 작성하자"
   ]
  },
  {
   "cell_type": "markdown",
   "metadata": {},
   "source": [
    ">- 예제\n",
    ">- 4면체, 6면체, 8면체, 12면체, 20면체 주사위가 든 상자가 있음\n",
    ">- 상자에서 주사위 하나를 집어 던졌더니 6이 나옴\n",
    ">- 각 주사위를 선택했을 확률은 어떻게 될까?\n"
   ]
  },
  {
   "cell_type": "markdown",
   "metadata": {},
   "source": [
    "$1$. 가설 설정\n",
    "\n",
    "\n",
    "- 선택한 주사위는 4면체, 6면체, 8면체, 12면체, 20면체 중 하나이다"
   ]
  },
  {
   "cell_type": "code",
   "execution_count": 8,
   "metadata": {},
   "outputs": [],
   "source": [
    "from thinkbayes import Pmf\n",
    "from thinkbayes import Suite"
   ]
  },
  {
   "cell_type": "code",
   "execution_count": 7,
   "metadata": {},
   "outputs": [],
   "source": [
    "hypotheses = [4, 6, 8, 12, 20]"
   ]
  },
  {
   "cell_type": "markdown",
   "metadata": {},
   "source": [
    "$2$. 데이터를 나타내자\n",
    "\n",
    "\n",
    "- 데이터는 4면체부터 20면체까지의 주사위에서 나올수 있는 숫자들이고, range(1,21)로 모두 정의할 수 있음\n",
    "- 이 경우 4면체에서는 5부터 20까지의 데이터는 무시됨"
   ]
  },
  {
   "cell_type": "markdown",
   "metadata": {},
   "source": [
    "$3$. 우도함수를 작성하자\n",
    "\n",
    "- 주사위를 굴려 특정 값이 나올 확률은 \"1/주사위크기\"로 나타낼 수 있음\n",
    "- 위 가설에서는 \"1/가설명\"으로 나타낼 수 있음\n",
    "- 단, 주사위 크기보다 큰 값이 나올 확률은 0임"
   ]
  },
  {
   "cell_type": "code",
   "execution_count": 14,
   "metadata": {},
   "outputs": [],
   "source": [
    "def likelihood(self, data, hypo):\n",
    "    if data > hypo:\n",
    "        return 0\n",
    "    else:\n",
    "        return 1/hypo"
   ]
  },
  {
   "cell_type": "markdown",
   "metadata": {},
   "source": [
    "- 위 과정을 class로 구현하자면 아래와 같음"
   ]
  },
  {
   "cell_type": "code",
   "execution_count": 19,
   "metadata": {},
   "outputs": [],
   "source": [
    "class Dice(Suite):\n",
    "    \n",
    "    def Likelihood(self, data, hypo):\n",
    "        if data > hypo:\n",
    "            return 0\n",
    "        else:\n",
    "            return 1/hypo"
   ]
  },
  {
   "cell_type": "code",
   "execution_count": 20,
   "metadata": {},
   "outputs": [
    {
     "data": {
      "text/plain": [
       "{4: 0.2, 6: 0.2, 8: 0.2, 12: 0.2, 20: 0.2}"
      ]
     },
     "execution_count": 20,
     "metadata": {},
     "output_type": "execute_result"
    }
   ],
   "source": [
    "suite = Dice(hypotheses)\n",
    "suite.d"
   ]
  },
  {
   "cell_type": "code",
   "execution_count": 21,
   "metadata": {},
   "outputs": [
    {
     "data": {
      "text/plain": [
       "{4: 0.0,\n",
       " 6: 0.3921568627450981,\n",
       " 8: 0.29411764705882354,\n",
       " 12: 0.19607843137254904,\n",
       " 20: 0.11764705882352944}"
      ]
     },
     "execution_count": 21,
     "metadata": {},
     "output_type": "execute_result"
    }
   ],
   "source": [
    "suite.Update(6)\n",
    "suite.d"
   ]
  },
  {
   "cell_type": "markdown",
   "metadata": {},
   "source": [
    "- 4면체를 골랐을 확률은 0% (6이 나올 수 없으므로), 6면체를 골랐을 확률은 39%, 8면체를 골랐을 확률은 29%, 12면체를 골랐을 확률은 20%, 20면체를 골랐을 확률은 12%임"
   ]
  },
  {
   "cell_type": "markdown",
   "metadata": {},
   "source": [
    "- 만약 몇번 더 굴려서 11, 9, 4, 3이 나왔다면 아래와 같이 확률을 계산 가능"
   ]
  },
  {
   "cell_type": "code",
   "execution_count": 23,
   "metadata": {},
   "outputs": [
    {
     "data": {
      "text/plain": [
       "{4: 0.0, 6: 0.0, 8: 0.0, 12: 0.9278503562945368, 20: 0.07214964370546323}"
      ]
     },
     "execution_count": 23,
     "metadata": {},
     "output_type": "execute_result"
    }
   ],
   "source": [
    "for i in [11, 9, 4, 3]:\n",
    "    suite.Update(i)\n",
    "\n",
    "suite.d"
   ]
  },
  {
   "cell_type": "markdown",
   "metadata": {},
   "source": [
    "___\n",
    "## 2. 기관차 문제\n",
    "\n"
   ]
  },
  {
   "cell_type": "code",
   "execution_count": null,
   "metadata": {},
   "outputs": [],
   "source": []
  }
 ],
 "metadata": {
  "kernelspec": {
   "display_name": "Python 3",
   "language": "python",
   "name": "python3"
  },
  "language_info": {
   "codemirror_mode": {
    "name": "ipython",
    "version": 3
   },
   "file_extension": ".py",
   "mimetype": "text/x-python",
   "name": "python",
   "nbconvert_exporter": "python",
   "pygments_lexer": "ipython3",
   "version": "3.6.4"
  }
 },
 "nbformat": 4,
 "nbformat_minor": 2
}
