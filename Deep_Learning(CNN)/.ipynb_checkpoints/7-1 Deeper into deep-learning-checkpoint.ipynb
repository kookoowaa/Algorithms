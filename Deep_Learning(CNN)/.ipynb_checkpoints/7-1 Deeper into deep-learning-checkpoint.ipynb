{
 "cells": [
  {
   "cell_type": "markdown",
   "metadata": {},
   "source": [
    "# *딥러닝*\n",
    " ## 1. 더 깊게"
   ]
  },
  {
   "cell_type": "markdown",
   "metadata": {},
   "source": [
    "### 1) 더 깊은 신경망으로\n",
    "- 손글씨 숫자를 인식하는 심층 CNN의 예시\n",
    "![](image/fig 8-1.png)"
   ]
  },
  {
   "cell_type": "markdown",
   "metadata": {},
   "source": [
    "- 위 신경망의 특성은 다음과 같음\n",
    ">- 3X3의 작은 필터 사용한 Conv Layer (층이 깊어질수록 채널수가 증가하는 것이 특징)\n",
    ">- 활성화 함수는 ReLU 사용\n",
    ">- Affine layer 뒤에서는 Dropout layer 사용\n",
    ">- Adam으로 매개변수 최적화 수행\n",
    ">- 가중치 초기값은 'He 초기값' 사용"
   ]
  },
  {
   "cell_type": "markdown",
   "metadata": {},
   "source": [
    "- 위 심층 신경망의 정답률은 99.38%임\n",
    "- 인식에 실패한 이미지로 인간과 비슷한 오류 발생\n",
    "![](image/fig 8-2.png)"
   ]
  },
  {
   "cell_type": "markdown",
   "metadata": {},
   "source": [
    "### 2) 정확도를 더 높히려면\n",
    "\n",
    "- 정확도를 높히는 방법에는 **앙상블, 학습률감소, 데이터 확장** 등의 기법 사용 가능\n",
    "- 그 중 **data augmentation(데이터 확장)**은 입력 이미지에 미세한 변화를 주어 이미지 개수 자체를 늘리며, 데이터 수가 적을 때 효과적인 수단임\n",
    "![](image/fig 8-4.png)"
   ]
  },
  {
   "cell_type": "code",
   "execution_count": null,
   "metadata": {},
   "outputs": [],
   "source": []
  }
 ],
 "metadata": {
  "kernelspec": {
   "display_name": "Python 3",
   "language": "python",
   "name": "python3"
  },
  "language_info": {
   "codemirror_mode": {
    "name": "ipython",
    "version": 3
   },
   "file_extension": ".py",
   "mimetype": "text/x-python",
   "name": "python",
   "nbconvert_exporter": "python",
   "pygments_lexer": "ipython3",
   "version": "3.6.4"
  }
 },
 "nbformat": 4,
 "nbformat_minor": 2
}
