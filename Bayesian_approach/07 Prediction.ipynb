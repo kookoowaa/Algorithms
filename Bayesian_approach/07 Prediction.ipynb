{
 "cells": [
  {
   "cell_type": "code",
   "execution_count": 1,
   "metadata": {},
   "outputs": [
    {
     "name": "stdout",
     "output_type": "stream",
     "text": [
      "Populating the interactive namespace from numpy and matplotlib\n"
     ]
    }
   ],
   "source": [
    "import thinkbayes\n",
    "import pandas as pd\n",
    "import seaborn as sns\n",
    "\n",
    "%pylab inline\n",
    "pylab.rcParams['figure.figsize'] = (16, 8)"
   ]
  },
  {
   "cell_type": "markdown",
   "metadata": {},
   "source": [
    "# 예측\n",
    "___\n",
    "## 1. 보스턴 브루인스 문제"
   ]
  },
  {
   "cell_type": "markdown",
   "metadata": {},
   "source": [
    ">- 2010-11 하키리그 결승전에서 보스턴 브루인스와 벤쿠버 캐넉스를 만남\n",
    ">- 7전 4선승제에서 처음 두 경기를 0-1, 2-3으로 패배\n",
    ">- 이후 두 경기를 8-1, 4-0으로 승리\n",
    ">- 다음 경기를 이길 확률과, 결승전을 승리할 확률은 어떻게 되는가?"
   ]
  },
  {
   "cell_type": "markdown",
   "metadata": {},
   "source": [
    "- 위 문제에 답하기 위해선 두가지 가정을 해야 함\n",
    "    > 1. 경기 중 어떤 때든 골이 들어갈 확률은 동일하다고 보는 포아송 분포를 따름  \n",
    "    > 2. 특정 상대에 대해 각 팀의 장기적 평균 골 수는 $\\lambda$를 따름"
   ]
  },
  {
   "cell_type": "markdown",
   "metadata": {},
   "source": [
    "- 위 문제에 답하기 위한 절차는 다음과 같음\n",
    "> 1. $\\lambda$에 대한 사전 분포를 고르기 위해 전 게임에 대한 통계를 확인  \n",
    "> 2. 각 팀에 대한 $\\lambda$ 추정을 위해 처음 네 게임의 점수를 사용  \n",
    "> 3. $\\lambda$의 사후 분포를 통해 각 팀 별 골의 분포 골 차이의 분포, 각 팀이 다음에 이길 확률을 계산  \n",
    "> 4. 각 팀이 이번 시리즈에서 이길 확률을 계산"
   ]
  },
  {
   "cell_type": "markdown",
   "metadata": {},
   "source": [
    "___\n",
    "- 사전분포는 NHL 2010-11 시즌의 팀장 평균 골 수를 사용하여 근사\n",
    "- 분포는 $N(2.8, 0.3)$의 가우시안 분포를 따름\n",
    "- 가우시안 분포는 연속형이나, `thinkbayes.MakeGaussianPmf`를 통해 이산 Pmf로 추정\n",
    "- 여기서 `mu`는 평균, `sigma`는 표준편차, `num_sigma`는 표준편차의 배수('2'sigma, '6'sigma), `n`은 이산 Pmf의 범위 갯수\n",
    "```python\n",
    "def MakeGaussianPmf(mu, sigma, num_sigmas, n = 101):\n",
    "    pmf = Pmf()\n",
    "    low = mu - num_sigmas * sigma\n",
    "    high = mu + num_sigmas * sigma\n",
    "    \n",
    "    for x in np.linspace(low, high, n):\n",
    "        p = scipy.stats.norm.pdf(mu, sigma, x)\n",
    "        pmf.Set(x, p)\n",
    "    pmf.Normalize()\n",
    "    return pmf\n",
    "```"
   ]
  },
  {
   "cell_type": "markdown",
   "metadata": {},
   "source": [
    "- 하키 문제로 돌아가서 $\\lambda*$에 대한 suite의 정의는 아래와 같이 내릴 수 있음\n",
    "- 사전분포는 평균 2.7에 표준편차가 0.3인 가우시안 분포를 따르고, 4 sigma의 범위로 pmf를 구성"
   ]
  },
  {
   "cell_type": "code",
   "execution_count": 2,
   "metadata": {},
   "outputs": [],
   "source": [
    "class Hockey(thinkbayes.Suite):\n",
    "    \n",
    "    def __init__(self):\n",
    "        pmf = thinkbayes.MakeGaussianPmf(mu = 2.7, sigma = 0.3, num_sigmas= 4)\n",
    "        thinkbayes.Suite.__init__(self, pmf)"
   ]
  },
  {
   "cell_type": "code",
   "execution_count": 3,
   "metadata": {},
   "outputs": [
    {
     "data": {
      "text/plain": [
       "Text(0.5,1,'Prior of $\\\\lambda$ following $N(2.7,0.3)$\\n')"
      ]
     },
     "execution_count": 3,
     "metadata": {},
     "output_type": "execute_result"
    },
    {
     "data": {
      "image/png": "[encoded data removed]",
      "text/plain": [
       "<matplotlib.figure.Figure at 0x2887f061c88>"
      ]
     },
     "metadata": {},
     "output_type": "display_data"
    }
   ],
   "source": [
    "bins = []\n",
    "vals = []\n",
    "for i in Hockey().Items():\n",
    "    x, y = i\n",
    "    bins.append(x)\n",
    "    vals.append(y)\n",
    "    \n",
    "\n",
    "sns.lineplot(x = bins, y = vals)\n",
    "plt.title('Prior of $\\lambda$ following $N(2.7,0.3)$\\n')"
   ]
  },
  {
   "cell_type": "markdown",
   "metadata": {},
   "source": [
    "___\n",
    "## 2. 포아송 프로세스"
   ]
  },
  {
   "cell_type": "markdown",
   "metadata": {},
   "source": [
    "- 포아송 프로세스는 베르누이 프로세스의 연속형으로, 사건이 어떤 시점에서든 동일한 확률로 발생할 수 있음\n",
    "- 가게에 손님이 방문 할 확률, 버스정류장에 버스가 도착할 확률, 하키 게임에서 골이 들어갈 확률 등이 이에 속할 수 있음\n",
    "- 물론, 현실에서는 시간에 따라 확률이 다르지만 모든 모델이 단순화에서 기인한 만큼, 본 경우는 하키게임을 포아송 프로세스로 단순화\n",
    "- 단순화된 포아송 프로세스를 활용한 모델링을 사용하게 되면, 보다 효율적으로 '게임당 골'의 분포를 계산할 수 있고, '골 간의 시간' 분포도 계산할 수 있음 (포아송 PMF로)"
   ]
  },
  {
   "cell_type": "markdown",
   "metadata": {},
   "source": [
    "- 게임 당 평균 골 수($\\lambda$)가 `lam`이라면, `lam`의 분포는 포아송 PMF로 주어짐 (`thinkbayes.EvalPoissonPmf`)\n",
    "```python\n",
    "def EvalPoissonPmf(lam, k):\n",
    "    return (lam)**k * math.exp(-lam)/math.factorial(k)\n",
    "```"
   ]
  },
  {
   "cell_type": "markdown",
   "metadata": {},
   "source": [
    "- '골 간의 시간' 분포는 지수 PDF를 따름 (`thinkbayes.EvalExponentialPdf`)\n",
    "```python\n",
    "def EvalExponentialPdf(lam, x):\n",
    "    return lam * math.exp(-lam*x)\n",
    "```"
   ]
  },
  {
   "cell_type": "markdown",
   "metadata": {},
   "source": [
    "___\n",
    "## 3. 사후 분포"
   ]
  },
  {
   "cell_type": "markdown",
   "metadata": {},
   "source": [
    "- 게임에서 $k$개의 골을 넣을 때, `lam`의 가설값을 갖는 `Hockey` 객체의 우도를 구할 수 있음 (갱신)  \n",
    "```python\n",
    "\n",
    " #class Hockey\n",
    "    def Likelihood(self, data, hypo):\n",
    "        lam = hypo\n",
    "        k = data\n",
    "        like = thinkbayes.EvalPoissonPmf(lam, k)\n",
    "        return like\n",
    "```\n",
    "    "
   ]
  },
  {
   "cell_type": "code",
   "execution_count": 4,
   "metadata": {},
   "outputs": [],
   "source": [
    "class Hockey(thinkbayes.Suite):\n",
    "    \n",
    "    def __init__(self):\n",
    "        pmf = thinkbayes.MakeGaussianPmf(mu = 2.7, sigma = 0.3, num_sigmas= 4)\n",
    "        thinkbayes.Suite.__init__(self, pmf)\n",
    "        \n",
    "    \n",
    "    def Likelihood(self, data, hypo):\n",
    "        lam = hypo\n",
    "        k = data\n",
    "        like = thinkbayes.EvalPoissonPmf(k, lam)\n",
    "        return like"
   ]
  },
  {
   "cell_type": "markdown",
   "metadata": {},
   "source": [
    "- 위의 예제를 우도로 변환하여 갱신 (0-1, 2-3, 8-1, 4-0)\n",
    "- lam의 근사값은(MaximumLikelihood) Canucks의 경우 2.52, Bruins의 경우 2.80임"
   ]
  },
  {
   "cell_type": "code",
   "execution_count": 5,
   "metadata": {},
   "outputs": [
    {
     "data": {
      "text/plain": [
       "0.0005725202359080637"
      ]
     },
     "execution_count": 5,
     "metadata": {},
     "output_type": "execute_result"
    }
   ],
   "source": [
    "bruins = Hockey()\n",
    "bruins.UpdateSet([0, 2, 8, 4])\n",
    "canucks = Hockey()\n",
    "canucks.UpdateSet([1, 3, 1, 0])"
   ]
  },
  {
   "cell_type": "code",
   "execution_count": 6,
   "metadata": {},
   "outputs": [
    {
     "data": {
      "text/plain": [
       "Text(0.5,1,'Posteriors of number of goals per game after 4 games\\n')"
      ]
     },
     "execution_count": 6,
     "metadata": {},
     "output_type": "execute_result"
    },
    {
     "data": {
      "image/png": "[encoded data removed]",
      "text/plain": [
       "<matplotlib.figure.Figure at 0x28801b062e8>"
      ]
     },
     "metadata": {},
     "output_type": "display_data"
    }
   ],
   "source": [
    "sns.lineplot(x = bins, y = vals, label = 'prior')\n",
    "sns.lineplot(list(bruins.d.keys()), list(bruins.d.values()), label = 'posterior(Bruins)')\n",
    "sns.lineplot(list(canucks.d.keys()), list(canucks.d.values()), label = 'posterior(Canucks)')\n",
    "\n",
    "plt.vlines(x = bruins.MaximumLikelihood(), ymin = 0, ymax = max(bruins.d.values()))\n",
    "plt.text(x = bruins.MaximumLikelihood(), y = max(bruins.d.values())*1.01, s = round(bruins.MaximumLikelihood(),2))\n",
    "plt.vlines(x = canucks.MaximumLikelihood(), ymin = 0, ymax = max(canucks.d.values()))\n",
    "plt.text(x = canucks.MaximumLikelihood(), y = max(canucks.d.values())*1.01, s = round(canucks.MaximumLikelihood(),2))\n",
    "\n",
    "plt.title('Posteriors of number of goals per game after 4 games\\n')"
   ]
  },
  {
   "cell_type": "markdown",
   "metadata": {},
   "source": [
    "___\n",
    "## 4. 골의 분포"
   ]
  },
  {
   "cell_type": "markdown",
   "metadata": {},
   "source": [
    "- 각 팀이 다음 경기에서 이길 확률을 계산하려면 각 팀의 골의 분포를 계산해야 함\n",
    "- 만약 $\\lambda$ 값을 정확히 알고 있다면 포아송 분포를 다시 사용할 수 있음\n",
    "- thinkbayes에서는 0부터 high까지를 범위로, 포아송 분포의 절단 근사값을 계산하는 메서드를 제공\n",
    "```python\n",
    "def MakePoissonPmf(lam, high):\n",
    "    pmf = Pmf()\n",
    "    for k in range(0, high+1):\n",
    "        p = EvalPoissonsPmf(lam, k)\n",
    "        pmf.Set(k, p)\n",
    "    pmf.Normalize()\n",
    "    return pmf\n",
    "    ```"
   ]
  },
  {
   "cell_type": "markdown",
   "metadata": {},
   "source": [
    "- $\\lambda$가 3.4라면, 다음과 같이 계산 가능\n",
    "- 한게임에서 10골 이상 나올 가능성은 매우 낮으므로 high를 10으로 설정\n",
    "```python\n",
    "lam = 3.4\n",
    "goal_dist = thinkbayes.MakePoissonPmf(lam, 10)\n",
    "```"
   ]
  },
  {
   "cell_type": "markdown",
   "metadata": {},
   "source": [
    "- 문제는, $\\lambda$를 정확하게 모른다는 것인데, 대신 $\\lambda$가 가능한 값들에 대한 분포가 있음\n",
    "- 따라서, 각 $\\lambda$에 대해 포아송 분포를 구하고, 골 의 전체 분포는 포아송 분포의 혼합형으로, $\\lambda$의 분포 확률에 따라 가중치를 부여\n",
    "- $\\lambda$의 사후 분포에 대해 골의 분포를 생성하는 코드는 다음과 같음"
   ]
  },
  {
   "cell_type": "code",
   "execution_count": 8,
   "metadata": {},
   "outputs": [],
   "source": [
    "def MakeGoalPmf(suite):\n",
    "    metapmf = thinkbayes.Pmf()\n",
    "    \n",
    "    for lam, prob in suite.Items():\n",
    "        pmf = thinkbayes.MakePoissonPmf(lam, 10)\n",
    "        metapmf.Set(pmf, prob)\n",
    "        \n",
    "    mix = thinkbayes.MakeMixture(metapmf)\n",
    "    return mix"
   ]
  },
  {
   "cell_type": "code",
   "execution_count": 18,
   "metadata": {},
   "outputs": [],
   "source": [
    "metapmf = thinkbayes.Pmf()"
   ]
  },
  {
   "cell_type": "code",
   "execution_count": 22,
   "metadata": {},
   "outputs": [],
   "source": [
    "pmf = thinkbayes.MakePoissonPmf(bruins.Items()[0][0],10)"
   ]
  },
  {
   "cell_type": "code",
   "execution_count": 28,
   "metadata": {},
   "outputs": [
    {
     "ename": "TypeError",
     "evalue": "unhashable type: 'dict'",
     "output_type": "error",
     "traceback": [
      "\u001b[1;31m---------------------------------------------------------------------------\u001b[0m",
      "\u001b[1;31mTypeError\u001b[0m                                 Traceback (most recent call last)",
      "\u001b[1;32m<ipython-input-28-fb12042889d0>\u001b[0m in \u001b[0;36m<module>\u001b[1;34m()\u001b[0m\n\u001b[1;32m----> 1\u001b[1;33m \u001b[0mmetapmf\u001b[0m\u001b[1;33m.\u001b[0m\u001b[0mSet\u001b[0m\u001b[1;33m(\u001b[0m\u001b[0mpmf\u001b[0m\u001b[1;33m.\u001b[0m\u001b[0mGetDict\u001b[0m\u001b[1;33m(\u001b[0m\u001b[1;33m)\u001b[0m\u001b[1;33m,\u001b[0m \u001b[0mbruins\u001b[0m\u001b[1;33m.\u001b[0m\u001b[0mItems\u001b[0m\u001b[1;33m(\u001b[0m\u001b[1;33m)\u001b[0m\u001b[1;33m[\u001b[0m\u001b[1;36m0\u001b[0m\u001b[1;33m]\u001b[0m\u001b[1;33m[\u001b[0m\u001b[1;36m1\u001b[0m\u001b[1;33m]\u001b[0m\u001b[1;33m)\u001b[0m\u001b[1;33m\u001b[0m\u001b[0m\n\u001b[0m",
      "\u001b[1;32mc:\\git\\Algorithms\\Bayesian_approach\\thinkbayes.py\u001b[0m in \u001b[0;36mSet\u001b[1;34m(self, x, y)\u001b[0m\n\u001b[0;32m    262\u001b[0m             \u001b[0my\u001b[0m\u001b[1;33m:\u001b[0m \u001b[0mnumber\u001b[0m \u001b[0mfreq\u001b[0m \u001b[1;32mor\u001b[0m \u001b[0mprob\u001b[0m\u001b[1;33m\u001b[0m\u001b[0m\n\u001b[0;32m    263\u001b[0m         \"\"\"\n\u001b[1;32m--> 264\u001b[1;33m         \u001b[0mself\u001b[0m\u001b[1;33m.\u001b[0m\u001b[0md\u001b[0m\u001b[1;33m[\u001b[0m\u001b[0mx\u001b[0m\u001b[1;33m]\u001b[0m \u001b[1;33m=\u001b[0m \u001b[0my\u001b[0m\u001b[1;33m\u001b[0m\u001b[0m\n\u001b[0m\u001b[0;32m    265\u001b[0m \u001b[1;33m\u001b[0m\u001b[0m\n\u001b[0;32m    266\u001b[0m     \u001b[1;32mdef\u001b[0m \u001b[0mIncr\u001b[0m\u001b[1;33m(\u001b[0m\u001b[0mself\u001b[0m\u001b[1;33m,\u001b[0m \u001b[0mx\u001b[0m\u001b[1;33m,\u001b[0m \u001b[0mterm\u001b[0m\u001b[1;33m=\u001b[0m\u001b[1;36m1\u001b[0m\u001b[1;33m)\u001b[0m\u001b[1;33m:\u001b[0m\u001b[1;33m\u001b[0m\u001b[0m\n",
      "\u001b[1;31mTypeError\u001b[0m: unhashable type: 'dict'"
     ]
    }
   ],
   "source": [
    "metapmf.Set(pmf, bruins.Items()[0][1])"
   ]
  },
  {
   "cell_type": "markdown",
   "metadata": {},
   "source": [
    "\n",
    "- bruins.Items는 1.5부터 3.9까지의 pmf (n = 101)\n",
    "- metapmf는 총 100개 분포의 혼합분포\n",
    "- pmf는 lam 별 분포\n",
    "- 문제는 metapmf의 key로 pmf가 들어가야 하는데, dict object가 unhashable함\n"
   ]
  },
  {
   "cell_type": "code",
   "execution_count": 30,
   "metadata": {},
   "outputs": [
    {
     "data": {
      "text/plain": [
       "[(1.5000000000000002, 1.773723789086665e-07),\n",
       " (1.5120000000000002, 2.2162920403274484e-07),\n",
       " (1.5240000000000002, 2.762422633428147e-07),\n",
       " (1.5360000000000003, 3.4346414707770674e-07),\n",
       " (1.5480000000000003, 4.259971674564739e-07),\n",
       " (1.5600000000000003, 5.270742035864532e-07),\n",
       " (1.5720000000000003, 6.505522131015374e-07),\n",
       " (1.5840000000000003, 8.010200293847659e-07),\n",
       " (1.5960000000000003, 9.839222022034006e-07),\n",
       " (1.6080000000000003, 1.2057007779301221e-06),\n",
       " (1.6200000000000003, 1.4739570503431752e-06),\n",
       " (1.6320000000000003, 1.7976354408499427e-06),\n",
       " (1.6440000000000001, 2.1872317838442426e-06),\n",
       " (1.6560000000000001, 2.655028394170062e-06),\n",
       " (1.6680000000000001, 3.215358374091624e-06),\n",
       " (1.6800000000000002, 3.884901670919855e-06),\n",
       " (1.6920000000000002, 4.683015417077015e-06),\n",
       " (1.7040000000000002, 5.6321010648963424e-06),\n",
       " (1.7160000000000002, 6.758010761347162e-06),\n",
       " (1.7280000000000002, 8.090495285220376e-06),\n",
       " (1.7400000000000002, 9.6636956828618e-06),\n",
       " (1.7520000000000002, 1.1516680479876097e-05),\n",
       " (1.7640000000000002, 1.3694030006900103e-05),\n",
       " (1.7760000000000002, 1.624646894930228e-05),\n",
       " (1.7880000000000003, 1.923154770564519e-05),\n",
       " (1.8000000000000003, 2.2714372510761078e-05),\n",
       " (1.8120000000000003, 2.6768383540085178e-05),\n",
       " (1.8240000000000003, 3.147617935748366e-05),\n",
       " (1.8360000000000003, 3.6930385095792115e-05),\n",
       " (1.8480000000000003, 4.3234560666187955e-05),\n",
       " (1.8600000000000003, 5.050414408017022e-05),\n",
       " (1.8720000000000003, 5.8867423639782824e-05),\n",
       " (1.8840000000000003, 6.846653131425811e-05),\n",
       " (1.8960000000000004, 7.945844808424676e-05),\n",
       " (1.9080000000000004, 9.201601041164371e-05),\n",
       " (1.9200000000000004, 0.00010632890530097342),\n",
       " (1.9320000000000004, 0.00012260463967868495),\n",
       " (1.9440000000000004, 0.00014106946805501978),\n",
       " (1.9560000000000004, 0.00016196926067907477),\n",
       " (1.9680000000000004, 0.00018557029268513963),\n",
       " (1.9800000000000004, 0.00021215993309517276),\n",
       " (1.9920000000000004, 0.00024204721102989832),\n",
       " (2.0040000000000004, 0.00027556323513419775),\n",
       " (2.0160000000000005, 0.0003130614410886413),\n",
       " (2.0280000000000005, 0.00035491764120753244),\n",
       " (2.04, 0.0004015298495652057),\n",
       " (2.0520000000000005, 0.0004533178558971226),\n",
       " (2.064, 0.000510722521740087),\n",
       " (2.0760000000000005, 0.0005742047729542427),\n",
       " (2.088, 0.0006442442639517431),\n",
       " (2.1000000000000005, 0.0007213376906827222),\n",
       " (2.112, 0.0008059967317298277),\n",
       " (2.1240000000000006, 0.0008987455997639048),\n",
       " (2.136, 0.00100011818912935),\n",
       " (2.1480000000000006, 0.001110654809464165),\n",
       " (2.16, 0.0012308985000079634),\n",
       " (2.1720000000000006, 0.001361390924592358),\n",
       " (2.184, 0.001502667853205926),\n",
       " (2.196, 0.0016552542424334458),\n",
       " (2.208, 0.0018196589339198163),\n",
       " (2.22, 0.0019963689972259924),\n",
       " (2.232, 0.002185843750931425),\n",
       " (2.244, 0.0023885085034876467),\n",
       " (2.2560000000000002, 0.0026047480630187725),\n",
       " (2.2680000000000002, 0.0028349000728636765),\n",
       " (2.2800000000000002, 0.003079248237018172),\n",
       " (2.2920000000000003, 0.003338015506613371),\n",
       " (2.3040000000000003, 0.00361135730500196),\n",
       " (2.3160000000000003, 0.003899354874760903),\n",
       " (2.3280000000000003, 0.004202008834798997),\n",
       " (2.3400000000000003, 0.004519233039630051),\n",
       " (2.3520000000000003, 0.004850848835592917),\n",
       " (2.3640000000000003, 0.005196579810236427),\n",
       " (2.3760000000000003, 0.005556047131124353),\n",
       " (2.3880000000000003, 0.005928765568856363),\n",
       " (2.4000000000000004, 0.0063141402960694105),\n",
       " (2.4120000000000004, 0.006711464549533721),\n",
       " (2.4240000000000004, 0.007119918236164898),\n",
       " (2.4360000000000004, 0.007538567555850983),\n",
       " (2.4480000000000004, 0.007966365704479825),\n",
       " (2.4600000000000004, 0.00840215470952478),\n",
       " (2.4720000000000004, 0.00884466843811112),\n",
       " (2.4840000000000004, 0.009292536803783648),\n",
       " (2.4960000000000004, 0.009744291183399267),\n",
       " (2.5080000000000005, 0.010198371039877653),\n",
       " (2.5200000000000005, 0.01065313173018634),\n",
       " (2.5320000000000005, 0.01110685346116562),\n",
       " (2.5440000000000005, 0.01155775133888097),\n",
       " (2.5560000000000005, 0.012003986440411752),\n",
       " (2.5680000000000005, 0.01244367782063474),\n",
       " (2.58, 0.012874915350936628),\n",
       " (2.5920000000000005, 0.013295773272180214),\n",
       " (2.604, 0.013704324330937821),\n",
       " (2.6160000000000005, 0.014098654356260253),\n",
       " (2.628, 0.014476877124312648),\n",
       " (2.6400000000000006, 0.014837149350301991),\n",
       " (2.652, 0.015177685641424857),\n",
       " (2.6640000000000006, 0.01549677324123452),\n",
       " (2.676, 0.015792786394962136),\n",
       " (2.6880000000000006, 0.01606420016700202),\n",
       " (2.7, 0.016309603545992236),\n",
       " (2.7120000000000006, 0.01652771167967161),\n",
       " (2.724, 0.01671737709088444),\n",
       " (2.7360000000000007, 0.01687759973762201),\n",
       " (2.748, 0.01700753579365906),\n",
       " (2.7600000000000007, 0.017106505041963354),\n",
       " (2.7720000000000002, 0.017173996790371845),\n",
       " (2.7840000000000007, 0.01720967423776851),\n",
       " (2.7960000000000003, 0.01721337723885081),\n",
       " (2.8080000000000007, 0.017185123436215092),\n",
       " (2.8200000000000003, 0.017125107749577012),\n",
       " (2.8320000000000007, 0.017033700233127787),\n",
       " (2.8440000000000003, 0.016911442332956033),\n",
       " (2.8560000000000008, 0.016759041596799307),\n",
       " (2.8680000000000003, 0.016577364907794805),\n",
       " (2.880000000000001, 0.016367430332066855),\n",
       " (2.8920000000000003, 0.016130397686639705),\n",
       " (2.9040000000000004, 0.015867557949032916),\n",
       " (2.9160000000000004, 0.01558032164278301),\n",
       " (2.9280000000000004, 0.015270206343845287),\n",
       " (2.9400000000000004, 0.014938823461238685),\n",
       " (2.9520000000000004, 0.014587864451311865),\n",
       " (2.9640000000000004, 0.014219086628580305),\n",
       " (2.9760000000000004, 0.013834298737218526),\n",
       " (2.9880000000000004, 0.013435346446024744),\n",
       " (3.0000000000000004, 0.013024097926100256),\n",
       " (3.0120000000000005, 0.012602429664719968),\n",
       " (3.0240000000000005, 0.012172212661079821),\n",
       " (3.0360000000000005, 0.011735299139977944),\n",
       " (3.0480000000000005, 0.011293509908240629),\n",
       " (3.0600000000000005, 0.010848622466077772),\n",
       " (3.0720000000000005, 0.010402359971800676),\n",
       " (3.0840000000000005, 0.009956381143724768),\n",
       " (3.0960000000000005, 0.009512271167876087),\n",
       " (3.1080000000000005, 0.00907153366459689),\n",
       " (3.1200000000000006, 0.008635583751560412),\n",
       " (3.1320000000000006, 0.008205742225311632),\n",
       " (3.1440000000000006, 0.007783230868486514),\n",
       " (3.1560000000000006, 0.007369168875541046),\n",
       " (3.1680000000000006, 0.006964570376341463),\n",
       " (3.1800000000000006, 0.006570343024495404),\n",
       " (3.192, 0.006187287605984799),\n",
       " (3.2040000000000006, 0.005816098613609018),\n",
       " (3.216, 0.00545736572404704),\n",
       " (3.2280000000000006, 0.005111576107055812),\n",
       " (3.24, 0.004779117490471495),\n",
       " (3.2520000000000007, 0.0044602819002659035),\n",
       " (3.2640000000000002, 0.004155269991916753),\n",
       " (3.2760000000000007, 0.003864195887723104),\n",
       " (3.2880000000000003, 0.0035870924343759086),\n",
       " (3.3000000000000007, 0.0033239167959869006),\n",
       " (3.3120000000000003, 0.003074556299791264),\n",
       " (3.3240000000000007, 0.002838834454754265),\n",
       " (3.3360000000000003, 0.0026165170672108645),\n",
       " (3.3480000000000008, 0.002407318382319125),\n",
       " (3.3600000000000003, 0.00221090718538545),\n",
       " (3.3720000000000008, 0.0020269128028874506),\n",
       " (3.3840000000000003, 0.0018549309491524067),\n",
       " (3.396000000000001, 0.0016945293710174936),\n",
       " (3.4080000000000004, 0.001545253249287139),\n",
       " (3.420000000000001, 0.0014066303222985094),\n",
       " (3.4320000000000004, 0.0012781757033109198),\n",
       " (3.444000000000001, 0.0011593963696548033),\n",
       " (3.4560000000000004, 0.0010497953075341898),\n",
       " (3.468000000000001, 0.0009488753020038285),\n",
       " (3.4800000000000004, 0.0008561423668838448),\n",
       " (3.492000000000001, 0.0007711088141864079),\n",
       " (3.5040000000000004, 0.0006932959669788661),\n",
       " (3.516000000000001, 0.0006222365234739458),\n",
       " (3.5280000000000005, 0.0005574765835103108),\n",
       " (3.540000000000001, 0.0004985773514630842),\n",
       " (3.5520000000000005, 0.00044511653201249294),\n",
       " (3.564000000000001, 0.00039668943711294093),\n",
       " (3.5760000000000005, 0.00035290982396682255),\n",
       " (3.588000000000001, 0.0003134104848426946),\n",
       " (3.6000000000000005, 0.0002778436102179303),\n",
       " (3.612000000000001, 0.0002458809470046978),\n",
       " (3.6240000000000006, 0.00021721377357238446),\n",
       " (3.636000000000001, 0.0001915527129462698),\n",
       " (3.6480000000000006, 0.00016862740498023557),\n",
       " (3.66, 0.00014818605750790653),\n",
       " (3.6720000000000006, 0.00012999489550933035),\n",
       " (3.684, 0.00011383752622421638),\n",
       " (3.6960000000000006, 9.951423693159459e-05),\n",
       " (3.708, 8.684124083061563e-05),\n",
       " (3.7200000000000006, 7.564988512653245e-05),\n",
       " (3.732, 6.578583407553957e-05),\n",
       " (3.7440000000000007, 5.710823839466168e-05),\n",
       " (3.7560000000000002, 4.948890111826811e-05),\n",
       " (3.7680000000000007, 4.2811448697667516e-05),\n",
       " (3.7800000000000002, 3.697051490876299e-05),\n",
       " (3.7920000000000007, 3.187094396596504e-05),\n",
       " (3.8040000000000003, 2.742701814724138e-05),\n",
       " (3.8160000000000007, 2.3561714221464272e-05),\n",
       " (3.8280000000000003, 2.0205992039257677e-05),\n",
       " (3.8400000000000007, 1.7298117804399607e-05),\n",
       " (3.8520000000000003, 1.478302378497583e-05),\n",
       " (3.8640000000000008, 1.2611705550788294e-05),\n",
       " (3.8760000000000003, 1.0740657233734167e-05),\n",
       " (3.888000000000001, 9.131344797607098e-06),\n",
       " (3.9000000000000004, 7.749716868916159e-06)]"
      ]
     },
     "execution_count": 30,
     "metadata": {},
     "output_type": "execute_result"
    }
   ],
   "source": [
    "bruins.Items()"
   ]
  },
  {
   "cell_type": "code",
   "execution_count": null,
   "metadata": {},
   "outputs": [],
   "source": []
  }
 ],
 "metadata": {
  "kernelspec": {
   "display_name": "Python 3",
   "language": "python",
   "name": "python3"
  },
  "language_info": {
   "codemirror_mode": {
    "name": "ipython",
    "version": 3
   },
   "file_extension": ".py",
   "mimetype": "text/x-python",
   "name": "python",
   "nbconvert_exporter": "python",
   "pygments_lexer": "ipython3",
   "version": "3.6.4"
  }
 },
 "nbformat": 4,
 "nbformat_minor": 2
}
