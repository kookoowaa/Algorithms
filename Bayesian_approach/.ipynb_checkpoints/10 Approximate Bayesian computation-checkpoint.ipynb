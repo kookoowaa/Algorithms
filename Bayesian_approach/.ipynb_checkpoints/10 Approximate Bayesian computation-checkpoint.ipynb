{
 "cells": [
  {
   "cell_type": "code",
   "execution_count": 1,
   "metadata": {},
   "outputs": [],
   "source": [
    "import thinkbayes\n",
    "import seaborn as sns\n",
    "import pandas as pd"
   ]
  },
  {
   "cell_type": "code",
   "execution_count": 2,
   "metadata": {},
   "outputs": [
    {
     "name": "stdout",
     "output_type": "stream",
     "text": [
      "Populating the interactive namespace from numpy and matplotlib\n"
     ]
    }
   ],
   "source": [
    "%pylab inline\n",
    "pylab.rcParams['figure.figsize'] = (16, 8)"
   ]
  },
  {
   "cell_type": "markdown",
   "metadata": {},
   "source": [
    "# 근사 베이지안 계산\n",
    "___\n",
    "## 1. Variability Hypothesis (변이가설?)"
   ]
  },
  {
   "cell_type": "markdown",
   "metadata": {},
   "source": [
    "- 다음은 변이가설의 예이다\n",
    ">\"males have a greater range of ability than females,\n",
    "especially in intelligence. In other words, he believed that\n",
    "most geniuses and most mentally retarded people are men. Because\n",
    "he considered males to be the ’superior animal,’ Meckel\n",
    "concluded that females’ lack of variation was a sign of inferiority.\""
   ]
  },
  {
   "cell_type": "markdown",
   "metadata": {},
   "source": [
    "- 이는 남성이 여성보다 성질의 편차가 크고(키의 크고 작음, 아이큐의 높고 낮음), 이는 남성의 우월함의 표시라는 조안 미켈의 가설이다\n",
    "- 이와 관련해서 최근 미국의 남녀 성인이 키를 직접 입력한 데이터를 살펴 보니 다음과 같음을 볼 수 있었음\n",
    "> - 남성의 평균 키는 178cm고, 여성의 평균 키는 163cm로 평균적으로 남성이 더 큼\n",
    "> - 남성의 표준편차는 7.7cm고, 여성의 표준편차는 7.3cm로 절대적인 가변성은 남성이 더 높음\n",
    "> - 하지만 이종 그룹간의 비교를 위한 변동계수(편차/평균)<sup>coefficient of variation, CV</sup>를 살펴보면 남성은 0.0433이고, 여성은 0.0444로 확인"
   ]
  },
  {
   "cell_type": "markdown",
   "metadata": {},
   "source": [
    "- 물론 숫자들이 매우 비슷하여 데이터셋이 Variability Hypothesis를 증명하기에는 빈약하다고 볼 수 있음\n",
    "- 하지만 베이지안 메서드를 사용하여 결론을 좀 더 명확하게 할 수는 있음\n",
    "- 이는 다음 과정을 따름\n",
    "> 1. 우선 간단한 구현으로 시작 (1,000개 이하의 데이터셋에서 작동)\n",
    "> 2. 로그변환하여 확률을 계산하려면 전체 데이터를 표준화해야 하지만, 그럼 계산 속도가 느려짐\n",
    "> 3. 보통 ABC로 알려져 있는 근사 베이지안을 통해 속도를 높일 예정"
   ]
  },
  {
   "cell_type": "markdown",
   "metadata": {},
   "source": [
    "___\n",
    "## 2. 평균과 표준편차"
   ]
  },
  {
   "cell_type": "code",
   "execution_count": null,
   "metadata": {},
   "outputs": [],
   "source": []
  }
 ],
 "metadata": {
  "kernelspec": {
   "display_name": "Python 3",
   "language": "python",
   "name": "python3"
  },
  "language_info": {
   "codemirror_mode": {
    "name": "ipython",
    "version": 3
   },
   "file_extension": ".py",
   "mimetype": "text/x-python",
   "name": "python",
   "nbconvert_exporter": "python",
   "pygments_lexer": "ipython3",
   "version": "3.6.4"
  }
 },
 "nbformat": 4,
 "nbformat_minor": 2
}
