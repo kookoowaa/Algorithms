{
 "cells": [
  {
   "cell_type": "code",
   "execution_count": 1,
   "metadata": {},
   "outputs": [
    {
     "name": "stdout",
     "output_type": "stream",
     "text": [
      "Populating the interactive namespace from numpy and matplotlib\n"
     ]
    }
   ],
   "source": [
    "%pylab inline\n",
    "pylab.rcParams['figure.figsize'] = (16, 8)\n",
    "\n",
    "import thinkbayes\n",
    "from thinkbayes import Pmf\n",
    "from thinkbayes import Suite\n",
    "import pandas as pd"
   ]
  },
  {
   "cell_type": "markdown",
   "metadata": {},
   "source": [
    "# 의사 결정 분석\n",
    "___\n",
    "## 1. '$The Price is Right$*(그 가격이 적당해요)*' 문제"
   ]
  },
  {
   "cell_type": "markdown",
   "metadata": {},
   "source": [
    ">- A와 B가 진열대 위 물건의 가격을 맞추는 게임에 참가\n",
    ">- 진열대 가격을 넘기 않는 한도 내에서 가장 가까운 가격을 부르는 사람이 승리\n",
    ">- A는 \\$26,000을 예상하였고 실제 가격은 \\$25,347\n",
    ">- B는 \\$21,500을 예상하였고 실제 가격은 \\$21,578\n",
    ">- B는 -\\$78 차이로 승리했을 뿐 아니라 예상가와 금액차이가 \\$250 보다 작아 A의 진열대 물건까지 확보(게임룰)"
   ]
  },
  {
   "cell_type": "markdown",
   "metadata": {},
   "source": [
    "- 베이지안 사고 방식을 갖고 있는 사람들에게, 위 시나리오는 다음 3가지 질문을 던짐\n",
    "> 1. 결과를 보기 전에, 진열대 가격에 대한 사전분포를 얼마나 믿고 있었을까?\n",
    "> 2. 결과 확인 후 가격에 대한 믿음의 사후분포가 바뀌었을까?\n",
    "> 3. 사후분포에 따르면 참가자는 얼마를 부르는 것이 유리한가?"
   ]
  },
  {
   "cell_type": "markdown",
   "metadata": {},
   "source": [
    "___\n",
    "## 2. 사전 분포"
   ]
  },
  {
   "cell_type": "code",
   "execution_count": null,
   "metadata": {},
   "outputs": [],
   "source": []
  }
 ],
 "metadata": {
  "kernelspec": {
   "display_name": "Python 3",
   "language": "python",
   "name": "python3"
  },
  "language_info": {
   "codemirror_mode": {
    "name": "ipython",
    "version": 3
   },
   "file_extension": ".py",
   "mimetype": "text/x-python",
   "name": "python",
   "nbconvert_exporter": "python",
   "pygments_lexer": "ipython3",
   "version": "3.6.4"
  }
 },
 "nbformat": 4,
 "nbformat_minor": 2
}
